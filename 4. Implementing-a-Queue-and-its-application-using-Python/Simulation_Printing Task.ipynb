{
 "cells": [
  {
   "cell_type": "markdown",
   "metadata": {
    "collapsed": true
   },
   "source": [
    "# The problem statement-\n",
    "Consider the following situation in a computer science laboratory. On any average day about 10 students are working in the lab\n",
    "at any given hour. These students typically print up to twice during that time and the lengths of these tasks ranges from \n",
    "1 to 20 pages. The printer in the lab is older, capable of processing 10 pages per minute. The slower printing speed could\n",
    "make students wait too long. What page rate should be used ?"
   ]
  },
  {
   "cell_type": "markdown",
   "metadata": {},
   "source": [
    "# The solution approach-\n",
    "Building a simulation that models the laboratory. We will need to construct representations for-\n",
    "a) Students\n",
    "b) Printing Tasks\n",
    "c) Printer\n",
    "\n",
    "As students submit printing tasks, we will add them to the waiting list, a queue of printing tasks attached to the printer.\n",
    "When the printer completes a task, it will look at the queue to see if there are any remaining tasks to process.\n",
    "Of interest for us is the average amount of time students will wait for their papers to be printed is equal to the average\n",
    "amount of time a task waits in the queue.\n",
    "\n",
    "Here, is the main simulation steps:\n",
    "\n",
    "1)  Create a queue of print tasks. Each task will be given a timestamp upon its arrival. The queue is empty to start.\n",
    "\n",
    "2)  For each second (currentSecond):\n",
    "    \n",
    "    a) Does a new print task get created ? If so, add it to the queue with the currentSecond as the timestamp\n",
    "    \n",
    "    b) If the printer is not busy and the if a task is waiting-\n",
    "        i) Remove the next task from the print queue and assign it to the printer.\n",
    "        ii) Subtract the timestamp from the currentSecond to compute the waiting time for that task.\n",
    "        iii) Append the waiting time for that task to a list for later processing.\n",
    "        iv) Based on the number of pages in the print task, figure out how much time will be required.\n",
    "        \n",
    "    c) The printer now does one second of printing if necessary. It also subtracts one second from the time required for that task.\n",
    "    d) If the task has been completed, in other words the time required has reached zero, the printer is no longer busy.\n",
    "3) After the simulation is complete, compute the average waiting time from the list of waiting times generated."
   ]
  },
  {
   "cell_type": "code",
   "execution_count": 14,
   "metadata": {
    "collapsed": true
   },
   "outputs": [],
   "source": [
    "class myQueue:\n",
    "    def __init__(self):\n",
    "        self.items = []\n",
    "    \n",
    "    def __str__(self):\n",
    "        return str(self.items)\n",
    "    \n",
    "    def enqueue(self, item):\n",
    "        self.items.insert(0, item)\n",
    "        \n",
    "    def dequeue(self):\n",
    "        return self.items.pop()\n",
    "    \n",
    "    def isEmpty(self):\n",
    "        return self.items == []\n",
    "    \n",
    "    def size(self):\n",
    "        return len(self.items)"
   ]
  },
  {
   "cell_type": "code",
   "execution_count": 15,
   "metadata": {
    "collapsed": true
   },
   "outputs": [],
   "source": [
    "class Printer:\n",
    "    def __init__(self, ppm):\n",
    "        self.pagerate = ppm  # passing a page rate to the printer\n",
    "        self.currentTask = None  # initially no task assigned, it's idle\n",
    "        self.timeRemaining = 0 # as its idle, so the timeRemaining to complete the job is also 0\n",
    "        \n",
    "    # This method defines the clock for the printer\n",
    "    def tick(self):\n",
    "        if self.currentTask != None:  # if the printer is busy, i.e. some task is in process\n",
    "            self.timeRemaining = self.timeRemaining - 1 # decreasing by 1 second as it's our unit of time measure\n",
    "            if self.timeRemaining <= 0:  # if job is done\n",
    "                self.currentTask = None  # the current task is completed\n",
    "                \n",
    "    # Returns if the printer is busy or not\n",
    "    def busy(self):\n",
    "        if self.currentTask != None:\n",
    "            return True\n",
    "        else:\n",
    "            return False\n",
    "        \n",
    "    # It takes the new task from the task queue\n",
    "    def startNext(self, newtask):\n",
    "        self.currentTask = newtask\n",
    "        self.timeRemaining = newtask.getPages() * 60/self.pagerate  # this computes timeRemaining in seconds"
   ]
  },
  {
   "cell_type": "code",
   "execution_count": 16,
   "metadata": {
    "collapsed": true
   },
   "outputs": [],
   "source": [
    "import random\n",
    "\n",
    "class Task:\n",
    "    def __init__(self, time):\n",
    "        self.timestamp = time  # when the task comes in the queue\n",
    "        self.pages = random.randrange(1, 21)  # any number of pages between 1 and 20 could be given by the students\n",
    "        \n",
    "    def getStamp(self):\n",
    "        return self.timestamp\n",
    "    \n",
    "    def getPages(self):\n",
    "        return self.pages\n",
    "    \n",
    "    def waitTime(self, currenttime):\n",
    "        return currenttime - self.timestamp # it calculates the waiting time in the queue. 'currenttime' will be passed from the main()"
   ]
  },
  {
   "cell_type": "code",
   "execution_count": 19,
   "metadata": {
    "collapsed": false
   },
   "outputs": [
    {
     "name": "stdout",
     "output_type": "stream",
     "text": [
      "Average Wait  79.00 secs   0 tasks remaining.\n",
      "Average Wait  60.10 secs   0 tasks remaining.\n",
      "Average Wait  20.73 secs   1 tasks remaining.\n",
      "Average Wait  27.00 secs   1 tasks remaining.\n",
      "Average Wait   1.13 secs   0 tasks remaining.\n",
      "Average Wait  11.24 secs   0 tasks remaining.\n",
      "Average Wait   4.57 secs   0 tasks remaining.\n",
      "Average Wait  12.23 secs   1 tasks remaining.\n",
      "Average Wait  15.90 secs   1 tasks remaining.\n",
      "Average Wait   4.44 secs   1 tasks remaining.\n"
     ]
    }
   ],
   "source": [
    "def simulation(numSeconds, pagesPerMinute):  # numSeconds(how long the printer will run) and the pages per minute\n",
    "    \n",
    "    labprinter = Printer(pagesPerMinute)\n",
    "    printQueue = myQueue()\n",
    "    waitingtimes = []\n",
    "    \n",
    "    # looping through the entire period while the printer is on\n",
    "    for currentSecond in range(numSeconds):\n",
    "        \n",
    "        if newPrintTask(): # if there is a task in the queue which will be simulated little later\n",
    "            task = Task(currentSecond)  # the task is defined which got created.\n",
    "            printQueue.enqueue(task)  # the moment task got created, push it to the queue.\n",
    "            \n",
    "        # When the printer is not busy and there is a job in the queue    \n",
    "        if (not labprinter.busy()) and (not printQueue.isEmpty()):\n",
    "            nexttask = printQueue.dequeue()  # poping the task from the queue and giving to the printer\n",
    "            waitingtimes.append(nexttask.waitTime(currentSecond))\n",
    "            labprinter.startNext(nexttask)  # printing starts\n",
    "            \n",
    "        labprinter.tick()  # ticks the clock until the printing goes on\n",
    "        \n",
    "    averageWait = sum(waitingtimes) /  len(waitingtimes)\n",
    "    print(\"Average Wait %6.2f secs %3d tasks remaining.\" %(averageWait, printQueue.size()))\n",
    "    \n",
    "def newPrintTask():\n",
    "    num = random.randrange(1, 181)\n",
    "    if num == 180:\n",
    "        return True\n",
    "    else:\n",
    "        return False\n",
    "        \n",
    "for i in range(10):\n",
    "    simulation(3600, 10)"
   ]
  },
  {
   "cell_type": "code",
   "execution_count": null,
   "metadata": {
    "collapsed": true
   },
   "outputs": [],
   "source": []
  }
 ],
 "metadata": {
  "kernelspec": {
   "display_name": "Python 3",
   "language": "python",
   "name": "python3"
  },
  "language_info": {
   "codemirror_mode": {
    "name": "ipython",
    "version": 3
   },
   "file_extension": ".py",
   "mimetype": "text/x-python",
   "name": "python",
   "nbconvert_exporter": "python",
   "pygments_lexer": "ipython3",
   "version": "3.5.1"
  }
 },
 "nbformat": 4,
 "nbformat_minor": 0
}
