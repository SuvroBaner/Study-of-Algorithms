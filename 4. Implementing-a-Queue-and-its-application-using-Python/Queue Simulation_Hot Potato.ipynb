{
 "cells": [
  {
   "cell_type": "code",
   "execution_count": 1,
   "metadata": {
    "collapsed": true
   },
   "outputs": [],
   "source": [
    "# The game is as follows-\n",
    "# Children line up in a circle and pass a potato from neighbor to neighbor as fast as they can. At a certain point in the game\n",
    "# the action is stopped and the child who has the potato is removed from the circle. The play continues until only one child is left."
   ]
  },
  {
   "cell_type": "code",
   "execution_count": 2,
   "metadata": {
    "collapsed": true
   },
   "outputs": [],
   "source": [
    "class Queue:\n",
    "    def __init__(self):\n",
    "        self.items = []\n",
    "        \n",
    "    def __str__(self):\n",
    "        return str(self.items)\n",
    "    \n",
    "    def enqueue(self, item):\n",
    "        self.items.insert(0, item)\n",
    "        \n",
    "    def dequeue(self):\n",
    "        return self.items.pop()\n",
    "    \n",
    "    def isEmpty(self):\n",
    "        return self.items == []\n",
    "    \n",
    "    def size(self):\n",
    "        return len(self.items)"
   ]
  },
  {
   "cell_type": "code",
   "execution_count": 7,
   "metadata": {
    "collapsed": false
   },
   "outputs": [
    {
     "name": "stdout",
     "output_type": "stream",
     "text": [
      "Baba\n",
      "Baba\n",
      "Puchki\n"
     ]
    }
   ],
   "source": [
    "def hotPotato(nameList, numOfTimes):\n",
    "    gameQueue = Queue()\n",
    "    \n",
    "    for name in nameList:\n",
    "        gameQueue.enqueue(name)  # adding the childeren in the queue\n",
    "        \n",
    "    # Simulating the circle\n",
    "    while gameQueue.size() > 1:\n",
    "        for i in range(numOfTimes):\n",
    "            gameQueue.enqueue(gameQueue.dequeue())\n",
    "            \n",
    "        gameQueue.dequeue()\n",
    "        \n",
    "    return gameQueue.dequeue()  # returning the last child as the \"winner\"\n",
    "print(hotPotato(['Bubai', 'Puchki', 'Piklu', 'Baba', 'Ma'], 6))\n",
    "print(hotPotato(['Bubai', 'Puchki', 'Piklu', 'Baba', 'Ma'], 5))\n",
    "print(hotPotato(['Bubai', 'Puchki', 'Piklu', 'Baba', 'Ma'], 4))"
   ]
  },
  {
   "cell_type": "code",
   "execution_count": null,
   "metadata": {
    "collapsed": true
   },
   "outputs": [],
   "source": []
  }
 ],
 "metadata": {
  "kernelspec": {
   "display_name": "Python 3",
   "language": "python",
   "name": "python3"
  },
  "language_info": {
   "codemirror_mode": {
    "name": "ipython",
    "version": 3
   },
   "file_extension": ".py",
   "mimetype": "text/x-python",
   "name": "python",
   "nbconvert_exporter": "python",
   "pygments_lexer": "ipython3",
   "version": "3.5.1"
  }
 },
 "nbformat": 4,
 "nbformat_minor": 0
}
