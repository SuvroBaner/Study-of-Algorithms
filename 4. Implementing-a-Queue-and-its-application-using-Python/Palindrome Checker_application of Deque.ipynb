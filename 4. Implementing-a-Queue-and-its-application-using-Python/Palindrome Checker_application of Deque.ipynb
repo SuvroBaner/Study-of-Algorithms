{
 "cells": [
  {
   "cell_type": "code",
   "execution_count": 1,
   "metadata": {
    "collapsed": true
   },
   "outputs": [],
   "source": [
    "# A deque is also known as a double-ended queue, is an ordered collection of items similar to the queue.\n",
    "# It is an ordered collection of items where items are added and removed from either end, either front or rear"
   ]
  },
  {
   "cell_type": "code",
   "execution_count": 2,
   "metadata": {
    "collapsed": true
   },
   "outputs": [],
   "source": [
    "class Deque:\n",
    "    def __init__(self):\n",
    "        self.items = []\n",
    "    def __str__(self):\n",
    "        return str(self.items)\n",
    "    def isEmpty(self):\n",
    "        return self.items == []\n",
    "    def addFront(self, item):\n",
    "        self.items.append(item)\n",
    "    def addRear(self, item):\n",
    "        self.items.insert(0, item)\n",
    "    def removeFront(self):\n",
    "        return self.items.pop()\n",
    "    def removeRear(self):\n",
    "        return self.items.pop(0)\n",
    "    def size(self):\n",
    "        return len(self.items)"
   ]
  },
  {
   "cell_type": "code",
   "execution_count": 4,
   "metadata": {
    "collapsed": false
   },
   "outputs": [
    {
     "name": "stdout",
     "output_type": "stream",
     "text": [
      "True\n",
      "['dog', 4, 'cat', True]\n",
      "4\n",
      "False\n",
      "8.4\n",
      "True\n",
      "['dog', 4, 'cat']\n"
     ]
    }
   ],
   "source": [
    "d = Deque()\n",
    "print(d.isEmpty())\n",
    "d.addRear(4)\n",
    "d.addRear('dog')\n",
    "d.addFront('cat')\n",
    "d.addFront(True)\n",
    "print(d.__str__())\n",
    "print(d.size())\n",
    "print(d.isEmpty())\n",
    "d.addRear(8.4)\n",
    "print(d.removeRear())\n",
    "print(d.removeFront())\n",
    "print(d.__str__())"
   ]
  },
  {
   "cell_type": "markdown",
   "metadata": {},
   "source": [
    "# Palindrome -Checker"
   ]
  },
  {
   "cell_type": "code",
   "execution_count": 8,
   "metadata": {
    "collapsed": false
   },
   "outputs": [
    {
     "name": "stdout",
     "output_type": "stream",
     "text": [
      "True\n",
      "True\n",
      "False\n",
      "True\n"
     ]
    }
   ],
   "source": [
    "# A palindrome is a string that reads the same forward and backward e.g. radar, toot, madam\n",
    "\n",
    "def palindromeChecker(aString):\n",
    "    inputDeque = Deque()\n",
    "    for ch in aString:\n",
    "        inputDeque.addRear(ch)\n",
    "        \n",
    "    stillEqual = True\n",
    "    \n",
    "    while inputDeque.size() > 1 and stillEqual:\n",
    "        first = inputDeque.removeFront()\n",
    "        last = inputDeque.removeRear()\n",
    "        if first != last:\n",
    "            stillEqual = False\n",
    "    \n",
    "    return stillEqual\n",
    "\n",
    "print(palindromeChecker('madam'))\n",
    "print(palindromeChecker('toot'))\n",
    "print(palindromeChecker('map'))\n",
    "print(palindromeChecker('m'))"
   ]
  },
  {
   "cell_type": "code",
   "execution_count": null,
   "metadata": {
    "collapsed": true
   },
   "outputs": [],
   "source": []
  }
 ],
 "metadata": {
  "kernelspec": {
   "display_name": "Python 3",
   "language": "python",
   "name": "python3"
  },
  "language_info": {
   "codemirror_mode": {
    "name": "ipython",
    "version": 3
   },
   "file_extension": ".py",
   "mimetype": "text/x-python",
   "name": "python",
   "nbconvert_exporter": "python",
   "pygments_lexer": "ipython3",
   "version": "3.5.1"
  }
 },
 "nbformat": 4,
 "nbformat_minor": 0
}
