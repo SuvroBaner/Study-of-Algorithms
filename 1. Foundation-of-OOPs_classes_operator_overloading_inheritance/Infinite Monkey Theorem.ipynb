{
 "cells": [
  {
   "cell_type": "markdown",
   "metadata": {},
   "source": [
    "Problem Statement : Infinite Monkey Theorem\n",
    "\n",
    "Here’s a self check that really covers everything so far. You may have heard of the infinite monkey theorem? The theorem states that a monkey hitting keys at random on a typewriter keyboard for an infinite amount of time will almost surely type a given text, such as the complete works of William Shakespeare. Well, suppose we replace a monkey with a Python function. How long do you think it would take for a Python function to generate just one sentence of Shakespeare? The sentence we’ll shoot for is: “methinks it is like a weasel”\n",
    "\n",
    "You’re not going to want to run this one in the browser, so fire up your favorite Python IDE. The way we’ll simulate this is to write a function that generates a string that is 27 characters long by choosing random letters from the 26 letters in the alphabet plus the space. We’ll write another function that will score each generated string by comparing the randomly generated string to the goal.\n",
    "\n",
    "A third function will repeatedly call generate and score, then if 100% of the letters are correct we are done. If the letters are not correct then we will generate a whole new string.To make it easier to follow your program’s progress this third function should print out the best string generated so far and its score every 1000 tries."
   ]
  },
  {
   "cell_type": "code",
   "execution_count": 35,
   "metadata": {
    "collapsed": true
   },
   "outputs": [],
   "source": [
    "import string, random"
   ]
  },
  {
   "cell_type": "code",
   "execution_count": 36,
   "metadata": {
    "collapsed": true
   },
   "outputs": [],
   "source": [
    "tgt_string = 'i am'\n",
    "quotelen = len(tgt_string)"
   ]
  },
  {
   "cell_type": "code",
   "execution_count": 37,
   "metadata": {
    "collapsed": true
   },
   "outputs": [],
   "source": [
    "def generate():\n",
    "    char = string.ascii_lowercase + ' '\n",
    "    randchars = ''.join(random.choice(char) for _ in range(quotelen))\n",
    "    return randchars"
   ]
  },
  {
   "cell_type": "code",
   "execution_count": 38,
   "metadata": {
    "collapsed": true
   },
   "outputs": [],
   "source": [
    "def score():\n",
    "    scorenum = 0\n",
    "    randchars = generate()\n",
    "    \n",
    "    tgtlist = tgt_string.split()\n",
    "    randlist = randchars.split()\n",
    "    \n",
    "    for i, j in zip(tgtlist, randlist):\n",
    "        if i == j:\n",
    "            scorenum += 1\n",
    "    scorecount = (scorenum / len(tgtlist)) * 100\n",
    "    return scorecount"
   ]
  },
  {
   "cell_type": "code",
   "execution_count": 39,
   "metadata": {
    "collapsed": false
   },
   "outputs": [
    {
     "name": "stdout",
     "output_type": "stream",
     "text": [
      "584  =  50.0\n",
      "973  =  50.0\n",
      "1679  =  50.0\n",
      "1904  =  50.0\n",
      "3608  =  50.0\n",
      "4116  =  50.0\n",
      "4350  =  50.0\n",
      "4843  =  50.0\n",
      "6721  =  50.0\n",
      "7465  =  50.0\n",
      "7878  =  50.0\n",
      "9284  =  50.0\n",
      "10305  =  50.0\n",
      "10561  =  50.0\n",
      "12309  =  50.0\n",
      "12978  =  50.0\n",
      "13389  =  50.0\n",
      "14148  =  50.0\n",
      "15246  =  50.0\n",
      "15566  =  50.0\n",
      "15673  =  50.0\n",
      "16842  =  50.0\n",
      "16867  =  50.0\n",
      "17330  =  50.0\n",
      "17663  =  50.0\n",
      "17723  =  50.0\n",
      "18532  =  50.0\n",
      "18566  =  50.0\n",
      "19837  =  50.0\n",
      "20714  =  50.0\n",
      "20874  =  50.0\n",
      "21556  =  100.0\n"
     ]
    }
   ],
   "source": [
    "def main():\n",
    "    run = 0\n",
    "    curScore = 0\n",
    "    \n",
    "    while not(curScore == 100):\n",
    "        curScore = score()\n",
    "        if (curScore != 0):\n",
    "            print(run, \" = \", curScore)\n",
    "        run += 1\n",
    "        \n",
    "if __name__ == '__main__':\n",
    "    main()"
   ]
  },
  {
   "cell_type": "code",
   "execution_count": null,
   "metadata": {
    "collapsed": true
   },
   "outputs": [],
   "source": []
  }
 ],
 "metadata": {
  "kernelspec": {
   "display_name": "Python 3",
   "language": "python",
   "name": "python3"
  },
  "language_info": {
   "codemirror_mode": {
    "name": "ipython",
    "version": 3
   },
   "file_extension": ".py",
   "mimetype": "text/x-python",
   "name": "python",
   "nbconvert_exporter": "python",
   "pygments_lexer": "ipython3",
   "version": "3.5.1"
  }
 },
 "nbformat": 4,
 "nbformat_minor": 0
}
