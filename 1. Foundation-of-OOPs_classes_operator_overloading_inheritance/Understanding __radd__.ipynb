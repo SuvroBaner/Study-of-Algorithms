{
 "cells": [
  {
   "cell_type": "markdown",
   "metadata": {},
   "source": [
    "# Imagine that we define a Day class, which contains the visits and contacts that a web page generates during a day.\n",
    "Let's understand __radd__ with respect to this context. This example has been taken from http://www.marinamele.com/2014/04/modifying-add-method-of-python-class.html"
   ]
  },
  {
   "cell_type": "code",
   "execution_count": 36,
   "metadata": {
    "collapsed": true
   },
   "outputs": [],
   "source": [
    "class Day_trial:\n",
    "    \n",
    "    def __init__(self, vst, cnt):\n",
    "        self.visits = vst\n",
    "        self.contacts =  cnt\n",
    "        \n",
    "    def __str__(self):\n",
    "        return \"Visits: %i, Contacts: %i\" %(self.visits, self.contacts)\n",
    "    \n",
    "    def __add__(self, other):\n",
    "        total_visits = self.visits + other.visits\n",
    "        total_contacts = self.contacts + other.contacts\n",
    "        return Day_trial(total_visits, total_contacts)"
   ]
  },
  {
   "cell_type": "code",
   "execution_count": 37,
   "metadata": {
    "collapsed": false
   },
   "outputs": [
    {
     "name": "stdout",
     "output_type": "stream",
     "text": [
      "Visits: 10, Contacts: 1\n",
      "Visits: 30, Contacts: 2\n"
     ]
    }
   ],
   "source": [
    "day1 = Day_trial(10, 1)\n",
    "day2 =  Day_trial(30, 2)\n",
    "print(day1)\n",
    "print(day2)"
   ]
  },
  {
   "cell_type": "code",
   "execution_count": 38,
   "metadata": {
    "collapsed": false
   },
   "outputs": [
    {
     "name": "stdout",
     "output_type": "stream",
     "text": [
      "Visits: 40, Contacts: 3\n"
     ]
    }
   ],
   "source": [
    "day3 = day1 + day2\n",
    "print(day3)"
   ]
  },
  {
   "cell_type": "code",
   "execution_count": 39,
   "metadata": {
    "collapsed": false
   },
   "outputs": [
    {
     "ename": "TypeError",
     "evalue": "unsupported operand type(s) for +: 'int' and 'Day_trial'",
     "output_type": "error",
     "traceback": [
      "\u001b[1;31m---------------------------------------------------------------------------\u001b[0m",
      "\u001b[1;31mTypeError\u001b[0m                                 Traceback (most recent call last)",
      "\u001b[1;32m<ipython-input-39-3414d16514d8>\u001b[0m in \u001b[0;36m<module>\u001b[1;34m()\u001b[0m\n\u001b[1;32m----> 1\u001b[1;33m \u001b[0msum\u001b[0m\u001b[1;33m(\u001b[0m\u001b[1;33m[\u001b[0m\u001b[0mday1\u001b[0m\u001b[1;33m,\u001b[0m \u001b[0mday2\u001b[0m\u001b[1;33m]\u001b[0m\u001b[1;33m)\u001b[0m\u001b[1;33m\u001b[0m\u001b[0m\n\u001b[0m",
      "\u001b[1;31mTypeError\u001b[0m: unsupported operand type(s) for +: 'int' and 'Day_trial'"
     ]
    }
   ],
   "source": [
    "sum([day1, day2])"
   ]
  },
  {
   "cell_type": "code",
   "execution_count": 40,
   "metadata": {
    "collapsed": true
   },
   "outputs": [],
   "source": [
    "### The below is the reason why this error has occurred ###"
   ]
  },
  {
   "cell_type": "markdown",
   "metadata": {},
   "source": [
    "sum() starts with the integer 0, and it tries 0.__add__(day1).\n",
    "However, __add__() of an integer doesn't know anything about how to sum a Day_trial() instance.\n",
    "Therefore, it tries to call the reverse add method i.e.  day1.__radd__(0) which needs to be defined in our class.\n",
    "Then, we'll be able to sum the day instances. So, let's define the class now."
   ]
  },
  {
   "cell_type": "code",
   "execution_count": 41,
   "metadata": {
    "collapsed": false
   },
   "outputs": [],
   "source": [
    "class Day:\n",
    "    \n",
    "    def __init__(self, vst, cnt):\n",
    "        self.visits = vst\n",
    "        self.contacts = cnt\n",
    "        \n",
    "    def __str__(self):\n",
    "        return \"Visits: %i, Contacts: %i\" %(self.visits, self.contacts)\n",
    "    \n",
    "    def __add__(self, other):\n",
    "        total_visits = self.visits + other.visits\n",
    "        total_contacts = self.contacts + other.contacts\n",
    "        return Day(total_visits, total_contacts)\n",
    "    \n",
    "    def __radd__(self, other):\n",
    "        if other == 0:\n",
    "            return self\n",
    "        else:\n",
    "            return self.__add__(other)"
   ]
  },
  {
   "cell_type": "code",
   "execution_count": 42,
   "metadata": {
    "collapsed": false
   },
   "outputs": [
    {
     "name": "stdout",
     "output_type": "stream",
     "text": [
      "Visits: 20, Contacts: 5\n",
      "Visits: 30, Contacts: 3\n"
     ]
    }
   ],
   "source": [
    "day1 = Day(20, 5)\n",
    "day2 = Day(30, 3)\n",
    "print(day1)\n",
    "print(day2)"
   ]
  },
  {
   "cell_type": "code",
   "execution_count": 43,
   "metadata": {
    "collapsed": false
   },
   "outputs": [
    {
     "name": "stdout",
     "output_type": "stream",
     "text": [
      "Visits: 50, Contacts: 8\n"
     ]
    }
   ],
   "source": [
    "day3 = day1 + day2\n",
    "print(day3)"
   ]
  },
  {
   "cell_type": "code",
   "execution_count": 44,
   "metadata": {
    "collapsed": false
   },
   "outputs": [
    {
     "name": "stdout",
     "output_type": "stream",
     "text": [
      "Visits: 100, Contacts: 16\n"
     ]
    }
   ],
   "source": [
    "day4 = sum([day1, day2, day3])\n",
    "print(day4)"
   ]
  }
 ],
 "metadata": {
  "kernelspec": {
   "display_name": "Python 3",
   "language": "python",
   "name": "python3"
  },
  "language_info": {
   "codemirror_mode": {
    "name": "ipython",
    "version": 3
   },
   "file_extension": ".py",
   "mimetype": "text/x-python",
   "name": "python",
   "nbconvert_exporter": "python",
   "pygments_lexer": "ipython3",
   "version": "3.5.1"
  }
 },
 "nbformat": 4,
 "nbformat_minor": 0
}
