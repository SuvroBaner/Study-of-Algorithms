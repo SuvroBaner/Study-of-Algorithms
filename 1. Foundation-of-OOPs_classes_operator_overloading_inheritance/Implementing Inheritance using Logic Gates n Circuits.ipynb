{
 "cells": [
  {
   "cell_type": "markdown",
   "metadata": {},
   "source": [
    "# Logic Gates and Circuits implementation, example of Inheritance"
   ]
  },
  {
   "cell_type": "markdown",
   "metadata": {},
   "source": [
    "The children all gain from their parents but distinguish themselves by adding additional characteristics\n",
    "\n",
    "At the top of the hierarchy, the LogicGate class represents the most general characteristics of logic gates namely,\n",
    "a label for the gate and an output line.\n",
    "The next level of subclasses breaks the logic gates into two families, those that have one input line and those that have two."
   ]
  },
  {
   "cell_type": "code",
   "execution_count": 16,
   "metadata": {
    "collapsed": true
   },
   "outputs": [],
   "source": [
    "class LogicGate:\n",
    "    \n",
    "    def __init__(self, n):\n",
    "        self.label = n\n",
    "        self.output = None\n",
    "        \n",
    "    def getLabel(self):\n",
    "        return self.label\n",
    "    \n",
    "    def getOutput(self):\n",
    "        self.output = self.performGateLogic()\n",
    "        return self.output"
   ]
  },
  {
   "cell_type": "code",
   "execution_count": 17,
   "metadata": {
    "collapsed": true
   },
   "outputs": [],
   "source": [
    "class BinaryGate(LogicGate):\n",
    "    \n",
    "    def __init__(self, n):\n",
    "        LogicGate.__init__(self, n)\n",
    "        \n",
    "        self.pinA = None\n",
    "        self.pinB = None\n",
    "        \n",
    "    def getPinA(self):\n",
    "        if self.pinA == None:\n",
    "            return int(input(\"Enter PinA input for gate\" + self.getLabel() + \"--->\"))\n",
    "        else:\n",
    "            return self.pinA.getFrom().getOutput()\n",
    "    \n",
    "    def getPinB(self):\n",
    "        if self.pinB == None:\n",
    "            return int(input(\"Enter PinB input for gate\" + self.getLabel() + \"--->\"))\n",
    "        else:\n",
    "            return self.pinB.getFrom().getOutput()\n",
    "        \n",
    "    def setNextPin(self, source):\n",
    "        if self.pinA == None:\n",
    "            self.pinA = source\n",
    "        else:\n",
    "            if self.pinB == None:\n",
    "                self.pinB = source\n",
    "            else:\n",
    "                 print(\"Cannot Connect: NO EMPTY PINS on this gate\")   "
   ]
  },
  {
   "cell_type": "code",
   "execution_count": 18,
   "metadata": {
    "collapsed": true
   },
   "outputs": [],
   "source": [
    "class UnaryGate(LogicGate):\n",
    "    \n",
    "    def __init__(self, n):\n",
    "        LogicGate.__init__(self, n)   # this can also be replaced as super(UnaryGate, self).__init__(n)\n",
    "        \n",
    "        self.pin = None\n",
    "        \n",
    "    def getPin(self):\n",
    "        if self.pin == None:\n",
    "            return int(input(\"Enter Pin input for gate\" + self.getLabel() + \"--->\"))\n",
    "        else:\n",
    "            return self.pin.getFrom().getOutput()\n",
    "        \n",
    "    def setNextPin(self, source):\n",
    "        if self.pin == None:\n",
    "            self.pin = source\n",
    "        else:\n",
    "            print(\"Cannot Connect: NO EMPTY PINS on this gate\")"
   ]
  },
  {
   "cell_type": "code",
   "execution_count": 29,
   "metadata": {
    "collapsed": true
   },
   "outputs": [],
   "source": [
    "class AndGate(BinaryGate):\n",
    "    \n",
    "    def __init__(self, n):\n",
    "        BinaryGate.__init__(self, n)\n",
    "        \n",
    "    def performGateLogic(self):\n",
    "        us_inp = input(\"Say: 'Yes' only if you are you coupling both the inputs for this gate: \"+ self.getLabel() + \"--->\")\n",
    "        if us_inp.lower() == \"yes\":\n",
    "            a = self.getPinA()\n",
    "            b = a\n",
    "        else:\n",
    "            a = self.getPinA()\n",
    "            b = self.getPinB()\n",
    "        if a == 1 and b == 1:\n",
    "            return 1\n",
    "        else:\n",
    "            return 0"
   ]
  },
  {
   "cell_type": "code",
   "execution_count": 30,
   "metadata": {
    "collapsed": true
   },
   "outputs": [],
   "source": [
    "class OrGate(BinaryGate):\n",
    "    \n",
    "    def __init__(self, n):\n",
    "        BinaryGate.__init__(self, n)\n",
    "        \n",
    "    def performGateLogic(self):\n",
    "        us_inp = input(\"Say: 'Yes' only if you are you coupling both the inputs for this gate: \"+ self.getLabel() + \"--->\")\n",
    "        if us_inp.lower() == \"yes\":\n",
    "            a = self.getPinA()\n",
    "            b = a\n",
    "        else:\n",
    "            a = self.getPinA()\n",
    "            b = self.getPinB()\n",
    "        if a == 0 and b == 0:\n",
    "            return 0\n",
    "        else:\n",
    "            return 1"
   ]
  },
  {
   "cell_type": "code",
   "execution_count": 21,
   "metadata": {
    "collapsed": true
   },
   "outputs": [],
   "source": [
    "class NotGate(UnaryGate):\n",
    "    \n",
    "    def __init__(self, n):\n",
    "        UnaryGate.__init__(self, n)\n",
    "        \n",
    "    def performGateLogic(self):\n",
    "        a = self.getPin()\n",
    "        if a == 0:\n",
    "            return 1\n",
    "        else:\n",
    "            return 0"
   ]
  },
  {
   "cell_type": "code",
   "execution_count": 31,
   "metadata": {
    "collapsed": true
   },
   "outputs": [],
   "source": [
    "class NandGate(BinaryGate):\n",
    "    \n",
    "    def __init__(self, n):\n",
    "        BinaryGate.__init__(self, n)\n",
    "        \n",
    "    def performGateLogic(self):\n",
    "        us_inp = input(\"Say: 'Yes' only if you are you coupling both the inputs for this gate: \"+ self.getLabel() + \"--->\")\n",
    "        if us_inp.lower() == \"yes\":\n",
    "            a = self.getPinA()\n",
    "            b = a\n",
    "        else:\n",
    "            a = self.getPinA()\n",
    "            b = self.getPinB()\n",
    "        if a == 1 and b == 1:\n",
    "            return 0\n",
    "        else:\n",
    "            return 1            "
   ]
  },
  {
   "cell_type": "code",
   "execution_count": 32,
   "metadata": {
    "collapsed": true
   },
   "outputs": [],
   "source": [
    "class NorGate(BinaryGate):\n",
    "    \n",
    "    def __init__(self, n):\n",
    "        BinaryGate.__init__(self, n)\n",
    "        \n",
    "    def performGateLogic(self):\n",
    "        us_inp = input(\"Say: 'Yes' only if you are you coupling both the inputs for this gate: \"+ self.getLabel() + \"--->\")\n",
    "        if us_inp.lower() == \"yes\":\n",
    "            a = self.getPinA()\n",
    "            b = a\n",
    "        else:\n",
    "            a = self.getPinA()\n",
    "            b = self.getPinB()\n",
    "        if a == 0 and b == 0:\n",
    "            return 1\n",
    "        else:\n",
    "            return 0"
   ]
  },
  {
   "cell_type": "code",
   "execution_count": 24,
   "metadata": {
    "collapsed": true
   },
   "outputs": [],
   "source": [
    "# The Connector class \"HAS-A\"relationship which requires No inheritance.\n",
    "# The classes so far, i.e. Unary, Binary etc. are \"IS-A\" relationship which requires inheritance.\n",
    "\n",
    "class Connector:\n",
    "    \n",
    "    def __init__(self, fgate, tgate):\n",
    "        self.fromgate = fgate\n",
    "        self.togate = tgate\n",
    "        \n",
    "        tgate.setNextPin(self)\n",
    "        \n",
    "    def getFrom(self):\n",
    "        return self.fromgate\n",
    "    \n",
    "    def getTo(self):\n",
    "        return self.togate"
   ]
  },
  {
   "cell_type": "code",
   "execution_count": 33,
   "metadata": {
    "collapsed": false
   },
   "outputs": [
    {
     "name": "stdout",
     "output_type": "stream",
     "text": [
      "Say: 'Yes' only if you are you coupling both the inputs for this gate: G1--->\n",
      "Enter PinA input for gateG1--->1\n",
      "Enter PinB input for gateG1--->1\n"
     ]
    },
    {
     "data": {
      "text/plain": [
       "1"
      ]
     },
     "execution_count": 33,
     "metadata": {},
     "output_type": "execute_result"
    }
   ],
   "source": [
    "g1 = AndGate(\"G1\")\n",
    "g1.getOutput()"
   ]
  },
  {
   "cell_type": "code",
   "execution_count": 34,
   "metadata": {
    "collapsed": false
   },
   "outputs": [
    {
     "name": "stdout",
     "output_type": "stream",
     "text": [
      "Say: 'Yes' only if you are you coupling both the inputs for this gate: G2--->no\n",
      "Enter PinA input for gateG2--->0\n",
      "Enter PinB input for gateG2--->1\n"
     ]
    },
    {
     "data": {
      "text/plain": [
       "1"
      ]
     },
     "execution_count": 34,
     "metadata": {},
     "output_type": "execute_result"
    }
   ],
   "source": [
    "g2 = OrGate(\"G2\")\n",
    "g2.getOutput()"
   ]
  },
  {
   "cell_type": "code",
   "execution_count": 35,
   "metadata": {
    "collapsed": false
   },
   "outputs": [
    {
     "name": "stdout",
     "output_type": "stream",
     "text": [
      "Enter Pin input for gateG3--->1\n"
     ]
    },
    {
     "data": {
      "text/plain": [
       "0"
      ]
     },
     "execution_count": 35,
     "metadata": {},
     "output_type": "execute_result"
    }
   ],
   "source": [
    "g3 = NotGate(\"G3\")\n",
    "g3.getOutput()"
   ]
  },
  {
   "cell_type": "code",
   "execution_count": 38,
   "metadata": {
    "collapsed": false
   },
   "outputs": [
    {
     "name": "stdout",
     "output_type": "stream",
     "text": [
      "Say: 'Yes' only if you are you coupling both the inputs for this gate: G3--->no\n",
      "Say: 'Yes' only if you are you coupling both the inputs for this gate: G1--->yes\n",
      "Enter PinA input for gateG1--->1\n",
      "Say: 'Yes' only if you are you coupling both the inputs for this gate: G2--->yes\n",
      "Enter PinA input for gateG2--->1\n",
      "0\n"
     ]
    }
   ],
   "source": [
    "def main():\n",
    "    g1 = AndGate(\"G1\")\n",
    "    g2 = AndGate(\"G2\")\n",
    "    g3 = OrGate(\"G3\")\n",
    "    g4 = NotGate(\"G4\")\n",
    "    c1 = Connector(g1, g3)\n",
    "    c2 = Connector(g2, g3)\n",
    "    c3 = Connector(g3, g4)\n",
    "    print(g4.getOutput())\n",
    "    \n",
    "main()"
   ]
  },
  {
   "cell_type": "code",
   "execution_count": 39,
   "metadata": {
    "collapsed": false
   },
   "outputs": [
    {
     "name": "stdout",
     "output_type": "stream",
     "text": [
      "Say: 'Yes' only if you are you coupling both the inputs for this gate: G5--->no\n",
      "Enter PinA input for gateG5--->1\n",
      "Enter PinB input for gateG5--->1\n"
     ]
    },
    {
     "data": {
      "text/plain": [
       "0"
      ]
     },
     "execution_count": 39,
     "metadata": {},
     "output_type": "execute_result"
    }
   ],
   "source": [
    "g5 = NandGate(\"G5\")\n",
    "g5.getOutput()"
   ]
  },
  {
   "cell_type": "code",
   "execution_count": 40,
   "metadata": {
    "collapsed": false
   },
   "outputs": [
    {
     "name": "stdout",
     "output_type": "stream",
     "text": [
      "Say: 'Yes' only if you are you coupling both the inputs for this gate: G6--->yes\n",
      "Enter PinA input for gateG6--->0\n"
     ]
    },
    {
     "data": {
      "text/plain": [
       "1"
      ]
     },
     "execution_count": 40,
     "metadata": {},
     "output_type": "execute_result"
    }
   ],
   "source": [
    "g6 = NorGate(\"G6\")\n",
    "g6.getOutput()"
   ]
  },
  {
   "cell_type": "code",
   "execution_count": 41,
   "metadata": {
    "collapsed": false
   },
   "outputs": [
    {
     "name": "stdout",
     "output_type": "stream",
     "text": [
      "Say: 'Yes' only if you are you coupling both the inputs for this gate: G2--->yes\n",
      "Say: 'Yes' only if you are you coupling both the inputs for this gate: G1--->no\n",
      "Enter PinA input for gateG1--->1\n",
      "Enter PinB input for gateG1--->1\n"
     ]
    },
    {
     "data": {
      "text/plain": [
       "1"
      ]
     },
     "execution_count": 41,
     "metadata": {},
     "output_type": "execute_result"
    }
   ],
   "source": [
    "# AND implementation using NAND-\n",
    "g1 = NandGate(\"G1\")\n",
    "g2 = NandGate(\"G2\")\n",
    "c1 = Connector(g1, g2)\n",
    "g2.getOutput()"
   ]
  },
  {
   "cell_type": "markdown",
   "metadata": {},
   "source": [
    "Create a series of gates that prove the following equality NOT (( A and B) or (C and D)) is that same as NOT( A and B ) and NOT (C and D). Make sure to use some of your new gates in the simulation."
   ]
  },
  {
   "cell_type": "code",
   "execution_count": 42,
   "metadata": {
    "collapsed": false
   },
   "outputs": [
    {
     "name": "stdout",
     "output_type": "stream",
     "text": [
      "Say: 'Yes' only if you are you coupling both the inputs for this gate: G3--->no\n",
      "Say: 'Yes' only if you are you coupling both the inputs for this gate: G1--->no\n",
      "Enter PinA input for gateG1--->1\n",
      "Enter PinB input for gateG1--->1\n",
      "Say: 'Yes' only if you are you coupling both the inputs for this gate: G2--->no\n",
      "Enter PinA input for gateG2--->1\n",
      "Enter PinB input for gateG2--->1\n",
      "Gate implementation 1 output:   0\n",
      "Say: 'Yes' only if you are you coupling both the inputs for this gate: G9--->no\n",
      "Say: 'Yes' only if you are you coupling both the inputs for this gate: G5--->no\n",
      "Enter PinA input for gateG5--->1\n",
      "Enter PinB input for gateG5--->1\n",
      "Say: 'Yes' only if you are you coupling both the inputs for this gate: G6--->no\n",
      "Enter PinA input for gateG6--->1\n",
      "Enter PinB input for gateG6--->1\n",
      "Gate implementation 2 output:   0\n"
     ]
    }
   ],
   "source": [
    "def main1():\n",
    "    g1 = AndGate(\"G1\")\n",
    "    g2 = AndGate(\"G2\")\n",
    "    g3 = OrGate(\"G3\")\n",
    "    g4 = NotGate(\"G4\")\n",
    "    \n",
    "    g5 = AndGate(\"G5\")\n",
    "    g6 = AndGate(\"G6\")\n",
    "    g7 = NotGate(\"G7\")\n",
    "    g8 = NotGate(\"G8\")\n",
    "    g9 = AndGate(\"G9\")\n",
    "    \n",
    "    c1 = Connector(g1, g3)\n",
    "    c2 = Connector(g2, g3)\n",
    "    c3 = Connector(g3, g4)\n",
    "    \n",
    "    c4 = Connector(g5, g7)\n",
    "    c5 = Connector(g6, g8)\n",
    "    c6 = Connector(g7, g9)\n",
    "    c7 = Connector(g8, g9)\n",
    "    \n",
    "    print(\"Gate implementation 1 output:  \", g4.getOutput())\n",
    "    print(\"Gate implementation 2 output:  \", g9.getOutput())\n",
    "\n",
    "main1()"
   ]
  },
  {
   "cell_type": "markdown",
   "metadata": {
    "collapsed": true
   },
   "source": [
    "Now, NOR gate and NAND gate are universal gates. Any gates can be made out of it. So, let's try to implement the above gate\n",
    "combination just using the universal gates. Create a series of gates that prove the following equality :-\n",
    "NOT (( A and B) or (C and D)) is that same as NOT( A and B ) and NOT (C and D)"
   ]
  },
  {
   "cell_type": "code",
   "execution_count": 43,
   "metadata": {
    "collapsed": false
   },
   "outputs": [
    {
     "name": "stdout",
     "output_type": "stream",
     "text": [
      "Say: 'Yes' only if you are you coupling both the inputs for this gate: G7--->yes\n",
      "Say: 'Yes' only if you are you coupling both the inputs for this gate: G6--->yes\n",
      "Say: 'Yes' only if you are you coupling both the inputs for this gate: G5--->no\n",
      "Say: 'Yes' only if you are you coupling both the inputs for this gate: G2--->yes\n",
      "Say: 'Yes' only if you are you coupling both the inputs for this gate: G1--->no\n",
      "Enter PinA input for gateG1--->1\n",
      "Enter PinB input for gateG1--->1\n",
      "Say: 'Yes' only if you are you coupling both the inputs for this gate: G4--->yes\n",
      "Say: 'Yes' only if you are you coupling both the inputs for this gate: G3--->no\n",
      "Enter PinA input for gateG3--->1\n",
      "Enter PinB input for gateG3--->1\n",
      "0\n"
     ]
    }
   ],
   "source": [
    "def LHS():\n",
    "    g1 = NandGate(\"G1\")\n",
    "    g2 = NandGate(\"G2\")\n",
    "    g3 = NandGate(\"G3\")\n",
    "    g4 = NandGate(\"G4\")\n",
    "    g5 = NorGate(\"G5\")\n",
    "    g6 = NorGate(\"G6\")\n",
    "    g7 = NandGate(\"G7\")\n",
    "    \n",
    "    c1 = Connector(g1, g2)\n",
    "    c2 = Connector(g3, g4)\n",
    "    c3 = Connector(g2, g5)\n",
    "    c4 = Connector(g4, g5)\n",
    "    c5 = Connector(g5, g6)\n",
    "    c6 = Connector(g6, g7)\n",
    "    \n",
    "    print(g7.getOutput())\n",
    "LHS()"
   ]
  },
  {
   "cell_type": "code",
   "execution_count": 44,
   "metadata": {
    "collapsed": false
   },
   "outputs": [
    {
     "name": "stdout",
     "output_type": "stream",
     "text": [
      "Say: 'Yes' only if you are you coupling both the inputs for this gate: G4--->yes\n",
      "Say: 'Yes' only if you are you coupling both the inputs for this gate: G3--->no\n",
      "Say: 'Yes' only if you are you coupling both the inputs for this gate: G1--->no\n",
      "Enter PinA input for gateG1--->1\n",
      "Enter PinB input for gateG1--->1\n",
      "Say: 'Yes' only if you are you coupling both the inputs for this gate: G2--->no\n",
      "Enter PinA input for gateG2--->1\n",
      "Enter PinB input for gateG2--->1\n",
      "0\n"
     ]
    }
   ],
   "source": [
    "def RHS():\n",
    "    g1 = NandGate(\"G1\")\n",
    "    g2 = NandGate(\"G2\")\n",
    "    g3 = NandGate(\"G3\")\n",
    "    g4 = NandGate(\"G4\")\n",
    "    \n",
    "    c1 = Connector(g1, g3)\n",
    "    c2 = Connector(g2, g3)\n",
    "    c3 = Connector(g3, g4)\n",
    "    \n",
    "    print(g4.getOutput())\n",
    "RHS()"
   ]
  },
  {
   "cell_type": "code",
   "execution_count": 45,
   "metadata": {
    "collapsed": true
   },
   "outputs": [],
   "source": [
    "###  Thus, the equality holds true.\n",
    "### NOT (( A and B) or (C and D)) is that same as NOT( A and B ) and NOT (C and D)"
   ]
  },
  {
   "cell_type": "code",
   "execution_count": null,
   "metadata": {
    "collapsed": true
   },
   "outputs": [],
   "source": []
  }
 ],
 "metadata": {
  "kernelspec": {
   "display_name": "Python 3",
   "language": "python",
   "name": "python3"
  },
  "language_info": {
   "codemirror_mode": {
    "name": "ipython",
    "version": 3
   },
   "file_extension": ".py",
   "mimetype": "text/x-python",
   "name": "python",
   "nbconvert_exporter": "python",
   "pygments_lexer": "ipython3",
   "version": "3.5.1"
  }
 },
 "nbformat": 4,
 "nbformat_minor": 0
}
