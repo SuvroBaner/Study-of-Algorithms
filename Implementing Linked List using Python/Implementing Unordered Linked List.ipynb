{
 "cells": [
  {
   "cell_type": "markdown",
   "metadata": {},
   "source": [
    "## Implementing an Unordered List : Linked List\n",
    "We need to be sure that we maintain the relative positioning of the items. However, there is no requirement that we maintain \n",
    "that positioning in contiguous memory. So, if we can maingtain some explicit information in each item, namely the location of the next item, then the relative position of each item can be expressed by simply following the link from one item to the next.\n",
    "\n",
    "It is important to note that the location of the first item of the list must be explicitly specified. This is the latest node which is added to the linked list. Once, we know where the first item is, the first item can tell us where the second item is, and so on. The external reference is often referred to as the **head** of the list. Similarly the last item needs to know that there is no next item."
   ]
  },
  {
   "cell_type": "markdown",
   "metadata": {},
   "source": [
    "### The Node Class\n",
    "The basic building block for the linked list implementation is the **node**. Each node object must hold at least two pieces of information-\n",
    "* **Data** field of the node\n",
    "* **Reference** to the next node\n",
    "\n",
    "Later we will see in the linked list implementation that reference to \"None\" will denote the fact that there is no next node.\n",
    "Note: In the constructor that a node is created with next set to None. This is also called as **\"Grounding the node\"**"
   ]
  },
  {
   "cell_type": "code",
   "execution_count": 1,
   "metadata": {
    "collapsed": true
   },
   "outputs": [],
   "source": [
    "class Node:\n",
    "    def __init__(self, initdata):\n",
    "        self.data = initdata\n",
    "        self.next = None\n",
    "    \n",
    "    def getData(self):\n",
    "        return self.data\n",
    "    \n",
    "    def getNext(self):\n",
    "        return self.next\n",
    "    \n",
    "    def setData(self, newdata):\n",
    "        self.data = newdata\n",
    "        \n",
    "    def setNext(self, newnext):\n",
    "        self.next = newnext"
   ]
  },
  {
   "cell_type": "code",
   "execution_count": 2,
   "metadata": {
    "collapsed": false
   },
   "outputs": [
    {
     "data": {
      "text/plain": [
       "93"
      ]
     },
     "execution_count": 2,
     "metadata": {},
     "output_type": "execute_result"
    }
   ],
   "source": [
    "temp = Node(93)\n",
    "temp.getData()"
   ]
  },
  {
   "cell_type": "markdown",
   "metadata": {},
   "source": [
    "### The Unordered List Class\n",
    "As suggested above, the unordered list will be built from a collection of nodes each linked to the next by explicit references.\n",
    "\n",
    "* The **head** of the list refers to the first node which contains the first item of the list. In turn this node holds a reference to the next node (the next item) and so on. It is very important to note that the list class itself does not contain any node objects. Instead it contains a **single reference to only the first node in the linked list**.\n",
    "\n",
    "\n",
    "* The linked list structure provides us with only **one entry point, the head of the list**. All of the other nodes can only be reached by accessing the first node and then following next links. This means that the easiest place to **add the new node** is right at the **head, or the beginning** of the list. In other words we will make the new item the first item of the list and the existing items will need to be linked to this new first item so that they follow.\n",
    "\n",
    "* **Linked List Traversal** : Traversal refers to systematically visiting each node.To do this we use an external reference that starts at the first node in the list. As we visit each node, we move the reference to the next node by \"traversing\" the next reference."
   ]
  },
  {
   "cell_type": "code",
   "execution_count": 42,
   "metadata": {
    "collapsed": true
   },
   "outputs": [],
   "source": [
    "class UnorderedList:\n",
    "    def __init__(self):\n",
    "        self.head = None  # Initially there are no nodes, so no Head either, i.e. assigned None\n",
    "        \n",
    "    def isEmpty(self):\n",
    "        return self.head == None  # True, if there are no nodes in the list.\n",
    "    \n",
    "    def add(self, item):\n",
    "        temp = Node(item) # creates a new node and places the item as its data.\n",
    "        temp.setNext(self.head) #  changes the next reference of the new node to refer to the old first node of the list\n",
    "        self.head = temp # head of the list is assigned to the new node and it goes on.\n",
    "        \n",
    "    def size(self):\n",
    "        current = self.head # the external reference set to the head of the list (first element or the beginning)\n",
    "        count = 0\n",
    "        while current != None:\n",
    "            count = count + 1\n",
    "            current = current.getNext() # moving the reference to the next node\n",
    "        return count\n",
    "    \n",
    "    def search(self, item):\n",
    "        current = self.head # the external reference is set to the head of the list\n",
    "        found = False\n",
    "        while current != None and not found:\n",
    "            if current.getData() == item:\n",
    "                found = True\n",
    "            else:\n",
    "                current = current.getNext()\n",
    "        return found\n",
    "    \n",
    "    def remove(self, item):\n",
    "        current = self.head # the external reference is set to the head of the list\n",
    "        previous = None # we need to also have a previous reference. It is initially set to None as there is no prev reference\n",
    "        found = False\n",
    "        while current != None and not found:\n",
    "            if current.getData() == item:\n",
    "                found = True\n",
    "            else:\n",
    "                previous = current # this process is called \"inch-wormimg\"\n",
    "                current = current.getNext()\n",
    "                \n",
    "        if previous == None:\n",
    "            self.head = current.getNext()\n",
    "        else:\n",
    "            if current != None:  # if current == None then current.getNext() will give a runtime error.\n",
    "                previous.setNext(current.getNext())\n",
    "            else:\n",
    "                print('The item you mentioned does not exist in the linked list')"
   ]
  },
  {
   "cell_type": "code",
   "execution_count": 43,
   "metadata": {
    "collapsed": false
   },
   "outputs": [],
   "source": [
    "mylist = UnorderedList()\n",
    "for i in [31, 77, 17, 93, 26, 54]:\n",
    "    mylist.add(i)"
   ]
  },
  {
   "cell_type": "code",
   "execution_count": 44,
   "metadata": {
    "collapsed": false
   },
   "outputs": [
    {
     "data": {
      "text/plain": [
       "6"
      ]
     },
     "execution_count": 44,
     "metadata": {},
     "output_type": "execute_result"
    }
   ],
   "source": [
    "mylist.size()"
   ]
  },
  {
   "cell_type": "code",
   "execution_count": 45,
   "metadata": {
    "collapsed": false
   },
   "outputs": [
    {
     "data": {
      "text/plain": [
       "True"
      ]
     },
     "execution_count": 45,
     "metadata": {},
     "output_type": "execute_result"
    }
   ],
   "source": [
    "mylist.search(77)"
   ]
  },
  {
   "cell_type": "code",
   "execution_count": 46,
   "metadata": {
    "collapsed": false
   },
   "outputs": [
    {
     "data": {
      "text/plain": [
       "False"
      ]
     },
     "execution_count": 46,
     "metadata": {},
     "output_type": "execute_result"
    }
   ],
   "source": [
    "mylist.search(101)"
   ]
  },
  {
   "cell_type": "code",
   "execution_count": 47,
   "metadata": {
    "collapsed": true
   },
   "outputs": [],
   "source": [
    "mylist.remove(26)"
   ]
  },
  {
   "cell_type": "code",
   "execution_count": 48,
   "metadata": {
    "collapsed": false
   },
   "outputs": [
    {
     "data": {
      "text/plain": [
       "5"
      ]
     },
     "execution_count": 48,
     "metadata": {},
     "output_type": "execute_result"
    }
   ],
   "source": [
    "mylist.size()"
   ]
  },
  {
   "cell_type": "code",
   "execution_count": 49,
   "metadata": {
    "collapsed": false
   },
   "outputs": [
    {
     "data": {
      "text/plain": [
       "False"
      ]
     },
     "execution_count": 49,
     "metadata": {},
     "output_type": "execute_result"
    }
   ],
   "source": [
    "mylist.isEmpty()"
   ]
  },
  {
   "cell_type": "code",
   "execution_count": 50,
   "metadata": {
    "collapsed": false
   },
   "outputs": [
    {
     "name": "stdout",
     "output_type": "stream",
     "text": [
      "The item you mentioned does not exist in the linked list\n"
     ]
    }
   ],
   "source": [
    "mylist.remove(200)"
   ]
  },
  {
   "cell_type": "code",
   "execution_count": null,
   "metadata": {
    "collapsed": true
   },
   "outputs": [],
   "source": []
  }
 ],
 "metadata": {
  "kernelspec": {
   "display_name": "Python 3",
   "language": "python",
   "name": "python3"
  },
  "language_info": {
   "codemirror_mode": {
    "name": "ipython",
    "version": 3
   },
   "file_extension": ".py",
   "mimetype": "text/x-python",
   "name": "python",
   "nbconvert_exporter": "python",
   "pygments_lexer": "ipython3",
   "version": "3.5.1"
  }
 },
 "nbformat": 4,
 "nbformat_minor": 0
}
