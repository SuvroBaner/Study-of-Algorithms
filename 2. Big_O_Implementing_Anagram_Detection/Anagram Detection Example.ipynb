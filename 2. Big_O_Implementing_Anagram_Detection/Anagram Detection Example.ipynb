{
 "cells": [
  {
   "cell_type": "markdown",
   "metadata": {},
   "source": [
    "# An Anagram Detection Example"
   ]
  },
  {
   "cell_type": "code",
   "execution_count": 1,
   "metadata": {
    "collapsed": true
   },
   "outputs": [],
   "source": [
    "# Definition : One string is an anagram of another if the second string is simply a rearrangement of the first.\n",
    "# Example : 'earth' and 'heart' are anagrams.\n",
    "\n",
    "# Our goal is to write a boolean function that will take two strings and return whether they are anagrams.\n",
    "\n",
    "# For the sake of simplicity, we will assume that the two strings in question are of equal length and they are made up of symbols\n",
    "# from the set of 26 lower alphabetic characters."
   ]
  },
  {
   "cell_type": "markdown",
   "metadata": {},
   "source": [
    "# Solution - 1 : Checking Off"
   ]
  },
  {
   "cell_type": "code",
   "execution_count": 2,
   "metadata": {
    "collapsed": true
   },
   "outputs": [],
   "source": [
    "# Our first solution to the anagram problem will check to see that each character in the first string actually occurs in the second.\n",
    "# If it is possible to \"checkoff\" each character, then the two strings must be anagrams.\n",
    "\n",
    "# Checking off a character will be accomplished by replacing it with the special Python value None.\n",
    "# However, since strings in Python are immutable, the first step in the process will be to convert the second string to a list.\n",
    "# Each character from the first string can be checked against the characters in the list and if found, checked off by replacement."
   ]
  },
  {
   "cell_type": "code",
   "execution_count": 3,
   "metadata": {
    "collapsed": true
   },
   "outputs": [],
   "source": [
    "def anagramSolution1(s1, s2):\n",
    "    alist = list(s2)\n",
    "    \n",
    "    pos1 = 0\n",
    "    stillOK = True\n",
    "    \n",
    "    while pos1 < len(s1) and stillOK:\n",
    "        pos2 = 0\n",
    "        found = False\n",
    "        \n",
    "        while pos2 < len(alist) and not found:\n",
    "            if s1[pos1] == alist[pos2]:\n",
    "                found = True\n",
    "            else:\n",
    "                pos2 = pos2 + 1\n",
    "                \n",
    "        if found:\n",
    "            alist[pos2] = None\n",
    "        else:\n",
    "            stillOK = False\n",
    "            \n",
    "        pos1 = pos1 + 1\n",
    "    \n",
    "    return stillOK"
   ]
  },
  {
   "cell_type": "code",
   "execution_count": 7,
   "metadata": {
    "collapsed": false
   },
   "outputs": [
    {
     "data": {
      "text/plain": [
       "True"
      ]
     },
     "execution_count": 7,
     "metadata": {},
     "output_type": "execute_result"
    }
   ],
   "source": [
    "anagramSolution1('earth', 'heart')"
   ]
  },
  {
   "cell_type": "code",
   "execution_count": 8,
   "metadata": {
    "collapsed": true
   },
   "outputs": [],
   "source": [
    "# To analyze this algorithm, we need to note that each of the n characters in s1 will cause an iteration through up to n\n",
    "# characters in the list from s2. Each of the n positions in the list will be visited once to match a character from s1.\n",
    "# Also making the matched digit as None, in total the number of visits become the sum of the integers from 1 to n.\n",
    "# i.e. (n*(n+1))/2 ... or (1/2)*n^2 + (1/2)*n.\n",
    "# So, as n gets larger, the n^2 term will dominate the n term and the 1/2 can be ignored.\n",
    "# Therefore the solution is O(n^2)"
   ]
  },
  {
   "cell_type": "markdown",
   "metadata": {},
   "source": [
    "# Solution 2: Sort and Compare"
   ]
  },
  {
   "cell_type": "code",
   "execution_count": 9,
   "metadata": {
    "collapsed": true
   },
   "outputs": [],
   "source": [
    "# Another solution to the anagram problem will make use of the fact that even though s1 and s2 are different, they are anagrams\n",
    "# only if they consist of exactly same characters. So if we begin by sorting each string alphabetically from a to z, we will end up \n",
    "# with the same string if the original two strings are anagram."
   ]
  },
  {
   "cell_type": "code",
   "execution_count": 10,
   "metadata": {
    "collapsed": true
   },
   "outputs": [],
   "source": [
    "def anagramSolution2(s1, s2):\n",
    "    s1_list = list(s1)\n",
    "    s2_list = list(s2)\n",
    "    \n",
    "    s1_list.sort()\n",
    "    s2_list.sort()\n",
    "    \n",
    "    pos = 0\n",
    "    isAna = True\n",
    "    \n",
    "    while pos < len(s1_list) and isAna:\n",
    "        if s1_list[pos] == s2_list[pos]:\n",
    "            pos += 1\n",
    "        else:\n",
    "            isAna = False\n",
    "            \n",
    "    return isAna"
   ]
  },
  {
   "cell_type": "code",
   "execution_count": 12,
   "metadata": {
    "collapsed": false
   },
   "outputs": [
    {
     "data": {
      "text/plain": [
       "True"
      ]
     },
     "execution_count": 12,
     "metadata": {},
     "output_type": "execute_result"
    }
   ],
   "source": [
    "anagramSolution2('abc', 'cba')"
   ]
  },
  {
   "cell_type": "code",
   "execution_count": 13,
   "metadata": {
    "collapsed": false
   },
   "outputs": [
    {
     "data": {
      "text/plain": [
       "False"
      ]
     },
     "execution_count": 13,
     "metadata": {},
     "output_type": "execute_result"
    }
   ],
   "source": [
    "anagramSolution2('abc', 'xyz')"
   ]
  },
  {
   "cell_type": "code",
   "execution_count": 14,
   "metadata": {
    "collapsed": true
   },
   "outputs": [],
   "source": [
    "# At first glance, you may be tempted to think that this algorithm is O(n), since there is one simple iteration to compare the\n",
    "# n characters after the sorting process. However, the two calls to the Python sort method are not without their own cost.\n",
    "# Sorting is typically either O(n^2) or O(nlogn), so the sorting operations dominate the iteration. In the end, this algorithm will\n",
    "# have the same order of magnitude as that of the sorting process."
   ]
  },
  {
   "cell_type": "markdown",
   "metadata": {},
   "source": [
    "# Solution 3: Brute Force"
   ]
  },
  {
   "cell_type": "code",
   "execution_count": 15,
   "metadata": {
    "collapsed": true
   },
   "outputs": [],
   "source": [
    "# A brute force technique for solving a problem typically tries to exhaust all possibilities. For the Anagram detection problem,\n",
    "# we can simply generate a list of all possible strings using the characters from s1 and then see if s2 occurs. In doing so, the \n",
    "# total candidates would be n! which grows faster than 2^n as n gets large."
   ]
  },
  {
   "cell_type": "markdown",
   "metadata": {},
   "source": [
    "# Solution 4: Count and Compare"
   ]
  },
  {
   "cell_type": "code",
   "execution_count": 18,
   "metadata": {
    "collapsed": true
   },
   "outputs": [],
   "source": [
    "# Our final solution to the anagram detection problem takes advantage of the fact that any two anagrams will have the same \n",
    "# number of a's, the same number of b's and so on.\n",
    "# In order to decide whether two strings are anagrams, we will first count the number of times each character occurs.\n",
    "# Since, there are 26 possible characters, we can use a list of 26 counters, one for each possible character.\n",
    "# Each time we see a particular character, we will increment the counter at that position. In the end, if the two lists are\n",
    "# identical, the strings must be anagrams."
   ]
  },
  {
   "cell_type": "code",
   "execution_count": 34,
   "metadata": {
    "collapsed": true
   },
   "outputs": [],
   "source": [
    "def anagramSolution4(s1, s2):\n",
    "    c1 = [0]*26\n",
    "    c2 = [0]*26\n",
    "    \n",
    "    for i in range(len(s1)):\n",
    "        pos = ord(s1[i]) - ord('a')  # getting the position using the unicode value of a single character w.r.t. 'a'\n",
    "        c1[pos] = c1[pos] + 1\n",
    "        \n",
    "    for i in range(len(s2)):\n",
    "        pos = ord(s2[i]) - ord('a')\n",
    "        c2[pos] = c2[pos] + 1\n",
    "        \n",
    "    j = 0\n",
    "    stillOK = True \n",
    "    \n",
    "    while j < 26 and stillOK:\n",
    "        if c1[j] == c2[j]:\n",
    "            j += 1\n",
    "        else:\n",
    "            stillOK = False\n",
    "            \n",
    "    return stillOK"
   ]
  },
  {
   "cell_type": "code",
   "execution_count": 35,
   "metadata": {
    "collapsed": false
   },
   "outputs": [
    {
     "data": {
      "text/plain": [
       "True"
      ]
     },
     "execution_count": 35,
     "metadata": {},
     "output_type": "execute_result"
    }
   ],
   "source": [
    "anagramSolution4('appleappleappleapple', 'pleappleappleappleap')"
   ]
  },
  {
   "cell_type": "code",
   "execution_count": 36,
   "metadata": {
    "collapsed": false
   },
   "outputs": [
    {
     "data": {
      "text/plain": [
       "False"
      ]
     },
     "execution_count": 36,
     "metadata": {},
     "output_type": "execute_result"
    }
   ],
   "source": [
    "anagramSolution4('abc', 'abcjjskhdkjasda')"
   ]
  },
  {
   "cell_type": "code",
   "execution_count": 33,
   "metadata": {
    "collapsed": true
   },
   "outputs": [],
   "source": [
    "# The first two iterations used to count the characters are noth based on n. The third iteration, comparing the two lists of counts\n",
    "# always takes 26 steps, since there are 26 possible characters in the strings.\n",
    "# Adding it all gives us T(n) = 2n + 26 steps. Than is O(n).\n",
    "# We have found a linear order of magnitude algorithm for solving this problem."
   ]
  },
  {
   "cell_type": "markdown",
   "metadata": {},
   "source": [
    "# Final Remark"
   ]
  },
  {
   "cell_type": "code",
   "execution_count": null,
   "metadata": {
    "collapsed": true
   },
   "outputs": [],
   "source": [
    "# Before leaving this example, an little remark on the space requirements. Although the last solution was able to run in linear time,\n",
    "# it could only do so by using additional storage to keep the two lists of character counts. In other words, the algorithm \n",
    "# sacrificed space in order to gain time.\n",
    "\n",
    "# On many occasions you will need to make decisions between time and space trade-offs. In this case, the amount of extra space is\n",
    "# not significant. However, if the underlying alphabet had millions of characters, there would be a concern.\n",
    "\n",
    "# As a Computer Scientist, when given a choice of algorithms, it will be up to you to determine the best use of computing resources\n",
    "# given a particular problem."
   ]
  }
 ],
 "metadata": {
  "kernelspec": {
   "display_name": "Python 3",
   "language": "python",
   "name": "python3"
  },
  "language_info": {
   "codemirror_mode": {
    "name": "ipython",
    "version": 3
   },
   "file_extension": ".py",
   "mimetype": "text/x-python",
   "name": "python",
   "nbconvert_exporter": "python",
   "pygments_lexer": "ipython3",
   "version": "3.5.1"
  }
 },
 "nbformat": 4,
 "nbformat_minor": 0
}
