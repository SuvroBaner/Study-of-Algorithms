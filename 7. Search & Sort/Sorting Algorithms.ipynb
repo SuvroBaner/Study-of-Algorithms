{
 "cells": [
  {
   "cell_type": "markdown",
   "metadata": {},
   "source": [
    "### Bubble Sort"
   ]
  },
  {
   "cell_type": "code",
   "execution_count": 1,
   "metadata": {
    "collapsed": true
   },
   "outputs": [],
   "source": [
    "def bubbleSort(alist):\n",
    "    for passnum in range(len(alist) - 1, 0, -1):\n",
    "        for i in range(passnum):\n",
    "            if alist[i] > alist[i + 1]:\n",
    "                temp = alist[i]\n",
    "                alist[i] = alist[i + 1]\n",
    "                alist[i + 1] = temp\n",
    "    return alist"
   ]
  },
  {
   "cell_type": "code",
   "execution_count": 2,
   "metadata": {
    "collapsed": false
   },
   "outputs": [
    {
     "data": {
      "text/plain": [
       "[17, 20, 26, 31, 44, 54, 55, 77, 93]"
      ]
     },
     "execution_count": 2,
     "metadata": {},
     "output_type": "execute_result"
    }
   ],
   "source": [
    "alist = [54, 26, 93, 17, 77, 31, 44, 55, 20]\n",
    "bubbleSort(alist)"
   ]
  },
  {
   "cell_type": "code",
   "execution_count": 3,
   "metadata": {
    "collapsed": true
   },
   "outputs": [],
   "source": [
    "def shortBubbleSort(alist):\n",
    "    exchange = True\n",
    "    passnum = len(alist) - 1\n",
    "    while passnum > 0 and exchange:\n",
    "        exchange = False\n",
    "        for i in range(passnum):\n",
    "            if alist[i] > alist[i + 1]:\n",
    "                exchange = True\n",
    "                temp = alist[i]\n",
    "                alist[i] = alist[i + 1]\n",
    "                alist[i + 1] = temp\n",
    "        passnum -= 1\n",
    "    return alist"
   ]
  },
  {
   "cell_type": "code",
   "execution_count": 4,
   "metadata": {
    "collapsed": false
   },
   "outputs": [
    {
     "data": {
      "text/plain": [
       "[17, 20, 26, 31, 44, 54, 55, 77, 93]"
      ]
     },
     "execution_count": 4,
     "metadata": {},
     "output_type": "execute_result"
    }
   ],
   "source": [
    "alist = [54, 26, 93, 17, 77, 31, 44, 55, 20]\n",
    "shortBubbleSort(alist)"
   ]
  },
  {
   "cell_type": "markdown",
   "metadata": {},
   "source": [
    "### Selection Sort"
   ]
  },
  {
   "cell_type": "code",
   "execution_count": 5,
   "metadata": {
    "collapsed": true
   },
   "outputs": [],
   "source": [
    "def selectionSort(alist):\n",
    "    for fillslot in range(len(alist) - 1, 0, -1):\n",
    "        positionOfMax = 0\n",
    "        for location in range(1, fillslot + 1):\n",
    "            if alist[location] > alist[positionOfMax]:\n",
    "                positionOfMax = location\n",
    "                \n",
    "        temp = alist[fillslot]\n",
    "        alist[fillslot] = alist[positionOfMax]\n",
    "        alist[positionOfMax] = temp\n",
    "    \n",
    "    return alist"
   ]
  },
  {
   "cell_type": "code",
   "execution_count": 6,
   "metadata": {
    "collapsed": false
   },
   "outputs": [
    {
     "data": {
      "text/plain": [
       "[2, 9, 17, 20, 26, 31, 44, 54, 55, 77, 93, 100]"
      ]
     },
     "execution_count": 6,
     "metadata": {},
     "output_type": "execute_result"
    }
   ],
   "source": [
    "alist = [54, 26, 93, 17, 77, 31, 44, 55, 20, 2, 9, 100]\n",
    "selectionSort(alist)"
   ]
  },
  {
   "cell_type": "markdown",
   "metadata": {},
   "source": [
    "### Insertion Sort"
   ]
  },
  {
   "cell_type": "code",
   "execution_count": null,
   "metadata": {
    "collapsed": true
   },
   "outputs": [],
   "source": []
  }
 ],
 "metadata": {
  "kernelspec": {
   "display_name": "Python 3",
   "language": "python",
   "name": "python3"
  },
  "language_info": {
   "codemirror_mode": {
    "name": "ipython",
    "version": 3
   },
   "file_extension": ".py",
   "mimetype": "text/x-python",
   "name": "python",
   "nbconvert_exporter": "python",
   "pygments_lexer": "ipython3",
   "version": "3.5.1"
  }
 },
 "nbformat": 4,
 "nbformat_minor": 0
}
