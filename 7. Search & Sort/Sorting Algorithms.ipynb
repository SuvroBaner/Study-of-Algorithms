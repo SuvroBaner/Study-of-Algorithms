{
 "cells": [
  {
   "cell_type": "markdown",
   "metadata": {},
   "source": [
    "### Bubble Sort : O(n^2)"
   ]
  },
  {
   "cell_type": "code",
   "execution_count": 5,
   "metadata": {
    "collapsed": true
   },
   "outputs": [],
   "source": [
    "def bubbleSort(alist):\n",
    "    for passnum in range(len(alist) - 1, 0, -1):\n",
    "        for i in range(passnum):\n",
    "            if alist[i] > alist[i + 1]:\n",
    "                temp = alist[i]\n",
    "                alist[i] = alist[i + 1]\n",
    "                alist[i + 1] = temp\n",
    "    return alist"
   ]
  },
  {
   "cell_type": "code",
   "execution_count": 6,
   "metadata": {
    "collapsed": false
   },
   "outputs": [
    {
     "data": {
      "text/plain": [
       "[17, 20, 26, 31, 44, 54, 55, 77, 93]"
      ]
     },
     "execution_count": 6,
     "metadata": {},
     "output_type": "execute_result"
    }
   ],
   "source": [
    "alist = [54, 26, 93, 17, 77, 31, 44, 55, 20]\n",
    "bubbleSort(alist)"
   ]
  },
  {
   "cell_type": "code",
   "execution_count": 7,
   "metadata": {
    "collapsed": true
   },
   "outputs": [],
   "source": [
    "def shortBubbleSort(alist):\n",
    "    exchange = True\n",
    "    passnum = len(alist) - 1\n",
    "    while passnum > 0 and exchange:\n",
    "        exchange = False\n",
    "        for i in range(passnum):\n",
    "            if alist[i] > alist[i + 1]:\n",
    "                exchange = True\n",
    "                temp = alist[i]\n",
    "                alist[i] = alist[i + 1]\n",
    "                alist[i + 1] = temp\n",
    "        passnum -= 1\n",
    "    return alist"
   ]
  },
  {
   "cell_type": "code",
   "execution_count": 8,
   "metadata": {
    "collapsed": false
   },
   "outputs": [
    {
     "data": {
      "text/plain": [
       "[17, 20, 26, 31, 44, 54, 55, 77, 93]"
      ]
     },
     "execution_count": 8,
     "metadata": {},
     "output_type": "execute_result"
    }
   ],
   "source": [
    "alist = [54, 26, 93, 17, 77, 31, 44, 55, 20]\n",
    "shortBubbleSort(alist)"
   ]
  },
  {
   "cell_type": "markdown",
   "metadata": {},
   "source": [
    "### Selection Sort : O(n^2)"
   ]
  },
  {
   "cell_type": "code",
   "execution_count": 9,
   "metadata": {
    "collapsed": true
   },
   "outputs": [],
   "source": [
    "def selectionSort(alist):\n",
    "    for fillslot in range(len(alist) - 1, 0, -1):\n",
    "        positionOfMax = 0\n",
    "        for location in range(1, fillslot + 1):\n",
    "            if alist[location] > alist[positionOfMax]:\n",
    "                positionOfMax = location\n",
    "                \n",
    "        temp = alist[fillslot]\n",
    "        alist[fillslot] = alist[positionOfMax]\n",
    "        alist[positionOfMax] = temp\n",
    "    \n",
    "    return alist"
   ]
  },
  {
   "cell_type": "code",
   "execution_count": 10,
   "metadata": {
    "collapsed": false
   },
   "outputs": [
    {
     "data": {
      "text/plain": [
       "[2, 9, 17, 20, 26, 31, 44, 54, 55, 77, 93, 100]"
      ]
     },
     "execution_count": 10,
     "metadata": {},
     "output_type": "execute_result"
    }
   ],
   "source": [
    "alist = [54, 26, 93, 17, 77, 31, 44, 55, 20, 2, 9, 100]\n",
    "selectionSort(alist)"
   ]
  },
  {
   "cell_type": "markdown",
   "metadata": {},
   "source": [
    "### Insertion Sort : O(n^2)"
   ]
  },
  {
   "cell_type": "code",
   "execution_count": 11,
   "metadata": {
    "collapsed": false
   },
   "outputs": [
    {
     "name": "stdout",
     "output_type": "stream",
     "text": [
      "[17, 20, 26, 31, 44, 54, 55, 77, 93]\n"
     ]
    }
   ],
   "source": [
    "def insertionSort(alist):\n",
    "    for index in range(1, len(alist)):\n",
    "        currentvalue = alist[index]\n",
    "        position = index\n",
    "        \n",
    "        while position > 0 and alist[position - 1] > currentvalue:\n",
    "            alist[position] = alist[position - 1]\n",
    "            position -= 1\n",
    "            \n",
    "        alist[position] = currentvalue\n",
    "        \n",
    "alist = [54,26,93,17,77,31,44,55,20]\n",
    "insertionSort(alist)\n",
    "print(alist)"
   ]
  },
  {
   "cell_type": "markdown",
   "metadata": {},
   "source": [
    "### Shell Sort : O(n^2)  ..."
   ]
  },
  {
   "cell_type": "code",
   "execution_count": 12,
   "metadata": {
    "collapsed": false
   },
   "outputs": [
    {
     "name": "stdout",
     "output_type": "stream",
     "text": [
      "After increments of size:  4 the list is  [20, 26, 44, 17, 54, 31, 93, 55, 77]\n",
      "After increments of size:  2 the list is  [20, 17, 44, 26, 54, 31, 77, 55, 93]\n",
      "After increments of size:  1 the list is  [17, 20, 26, 31, 44, 54, 55, 77, 93]\n",
      "[17, 20, 26, 31, 44, 54, 55, 77, 93]\n"
     ]
    }
   ],
   "source": [
    "# Shell Sort (diminishing increment sort)\n",
    "# It improves on the insertion sort by breaking the original list into a number of smaller sublists, each of which is sorted\n",
    "# using an insertion sort.\n",
    "\n",
    "def shellSort(alist):\n",
    "    sublistcount = len(alist) // 2\n",
    "    \n",
    "    while sublistcount > 0:\n",
    "        for startposition in range(sublistcount):\n",
    "            gapInsertionSort(alist, startposition, sublistcount)\n",
    "            \n",
    "        print(\"After increments of size: \", sublistcount, \"the list is \", alist)\n",
    "        \n",
    "        sublistcount = sublistcount // 2\n",
    "        \n",
    "def gapInsertionSort(alist, start, gap):\n",
    "    for i in range(start + gap, len(alist), gap):\n",
    "        currentvalue = alist[i]\n",
    "        position = i\n",
    "        \n",
    "        while position >= gap and alist[position - gap] > currentvalue:\n",
    "            alist[position] = alist[position - gap]\n",
    "            position = position - gap\n",
    "            \n",
    "        alist[position] = currentvalue\n",
    "        \n",
    "alist = [54,26,93,17,77,31,44,55,20]\n",
    "shellSort(alist)\n",
    "print(alist)"
   ]
  },
  {
   "cell_type": "markdown",
   "metadata": {},
   "source": [
    "### Merge Sort : O(n(logn))"
   ]
  },
  {
   "cell_type": "code",
   "execution_count": 14,
   "metadata": {
    "collapsed": false
   },
   "outputs": [
    {
     "name": "stdout",
     "output_type": "stream",
     "text": [
      "[17, 20, 26, 31, 44, 54, 55, 77, 93]\n"
     ]
    }
   ],
   "source": [
    "# Merge Sort : Divide and Conquer strategy. It is a recursive algorithm that continually splits a list in half.\n",
    "# The base case is : If the list is empty or has one item, it is sorted by definition.\n",
    "\n",
    "def mergeSort(alist):\n",
    "    # the base case is when the length of the list is 1 or less\n",
    "    #print(\"Splitting \", alist)\n",
    "    \n",
    "    if len(alist) > 1:\n",
    "        mid = len(alist) // 2\n",
    "        \n",
    "        lefthalf = alist[:mid]\n",
    "        righthalf = alist[mid:]\n",
    "        \n",
    "        mergeSort(lefthalf)\n",
    "        mergeSort(righthalf)\n",
    "        \n",
    "        i = 0\n",
    "        j = 0\n",
    "        k = 0\n",
    "        \n",
    "        \n",
    "        while i < len(lefthalf) and j < len(righthalf):\n",
    "            if lefthalf[i] < righthalf[j]:\n",
    "                alist[k] = lefthalf[i]\n",
    "                i = i + 1\n",
    "            else:\n",
    "                alist[k] = righthalf[j]\n",
    "                j = j + 1\n",
    "            \n",
    "            k = k + 1\n",
    "            \n",
    "        \n",
    "        while i < len(lefthalf):\n",
    "            alist[k] = lefthalf[i]\n",
    "            i = i + 1\n",
    "            k = k + 1\n",
    "            \n",
    "        while j < len(righthalf):\n",
    "            alist[k] = righthalf[j]\n",
    "            j = j + 1\n",
    "            k = k + 1\n",
    "            \n",
    "    #print(\"Merging: \", alist)\n",
    "    \n",
    "alist = [54,26,93,17,77,31,44,55,20]\n",
    "mergeSort(alist)\n",
    "print(alist)"
   ]
  },
  {
   "cell_type": "markdown",
   "metadata": {},
   "source": [
    "### Quick Sort : O(nlog(n))"
   ]
  },
  {
   "cell_type": "code",
   "execution_count": 26,
   "metadata": {
    "collapsed": true
   },
   "outputs": [],
   "source": [
    "### Quick Sort : It uses divide and conquer to gain the same advantages as the merge sort, while not using additional storage\n",
    "# (left and right)."
   ]
  },
  {
   "cell_type": "code",
   "execution_count": 25,
   "metadata": {
    "collapsed": false
   },
   "outputs": [
    {
     "name": "stdout",
     "output_type": "stream",
     "text": [
      "[17, 20, 26, 31, 44, 54, 55, 77, 93]\n"
     ]
    }
   ],
   "source": [
    "def quickSort(alist):\n",
    "    quickSortHelper(alist, 0, len(alist) - 1) # the array, first index and last index\n",
    "    \n",
    "def quickSortHelper(alist, first, last):\n",
    "    if first < last:\n",
    "        \n",
    "        splitpoint = partition(alist, first, last) # get the rightmark (index) from the earlier partition\n",
    "        \n",
    "        quickSortHelper(alist, first, splitpoint - 1) # for the left partition\n",
    "        quickSortHelper(alist, splitpoint + 1, last) # for the second partition\n",
    "        \n",
    "def partition(alist, first, last):\n",
    "    pivotvalue = alist[first]\n",
    "    \n",
    "    leftmark = first + 1\n",
    "    rightmark = last\n",
    "    \n",
    "    done = False\n",
    "    \n",
    "    while not done:\n",
    "        while leftmark <= rightmark and alist[leftmark] < pivotvalue:\n",
    "            leftmark += 1\n",
    "        \n",
    "        while alist[rightmark] >= pivotvalue and rightmark >= leftmark:\n",
    "            rightmark -= 1\n",
    "            \n",
    "        if rightmark < leftmark:\n",
    "            done = True\n",
    "        else:\n",
    "            temp = alist[leftmark]\n",
    "            alist[leftmark] = alist[rightmark]\n",
    "            alist[rightmark] = temp\n",
    "    \n",
    "    temp = alist[first]\n",
    "    alist[first] = alist[rightmark]\n",
    "    alist[rightmark] = temp\n",
    "    \n",
    "    return rightmark  # returning the index\n",
    "    \n",
    "alist = [54,26,93,17,77,31,44,55,20]\n",
    "quickSort(alist)\n",
    "print(alist)"
   ]
  },
  {
   "cell_type": "code",
   "execution_count": 27,
   "metadata": {
    "collapsed": true
   },
   "outputs": [],
   "source": [
    "# Now solve problems on this.."
   ]
  },
  {
   "cell_type": "code",
   "execution_count": null,
   "metadata": {
    "collapsed": true
   },
   "outputs": [],
   "source": []
  }
 ],
 "metadata": {
  "kernelspec": {
   "display_name": "Python 3",
   "language": "python",
   "name": "python3"
  },
  "language_info": {
   "codemirror_mode": {
    "name": "ipython",
    "version": 3
   },
   "file_extension": ".py",
   "mimetype": "text/x-python",
   "name": "python",
   "nbconvert_exporter": "python",
   "pygments_lexer": "ipython3",
   "version": "3.5.1"
  }
 },
 "nbformat": 4,
 "nbformat_minor": 0
}
