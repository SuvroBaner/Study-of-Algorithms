{
 "cells": [
  {
   "cell_type": "markdown",
   "metadata": {},
   "source": [
    "# Implementing a Stack-"
   ]
  },
  {
   "cell_type": "code",
   "execution_count": 1,
   "metadata": {
    "collapsed": true
   },
   "outputs": [],
   "source": [
    "# When we give an abstract data type a physical implementation we refer to that implementation as a Data Structure. Here Stack\n",
    "# is an abstarct data type and hence we refer it as a Data Structure.\n",
    "# Recall that the list class in Python provides an ordered collection mechanism and a set of methods.\n",
    "# For example, if we have the list  [2, 3, 4, 5], we need only to decide which end of the list will be considered the top of the \n",
    "# stack and which will be the base. Once that decision is made, the operations can be implemented using list operations such\n",
    "# as append and pop.\n",
    "\n",
    "# The following stack implementation assumes that the end of the list will hold the top element of the stack."
   ]
  },
  {
   "cell_type": "code",
   "execution_count": 1,
   "metadata": {
    "collapsed": true
   },
   "outputs": [],
   "source": [
    "class My_Stack:\n",
    "    def __init__(self):\n",
    "        self.items = []  # creating an empty stack\n",
    "        \n",
    "    def __str__(self):\n",
    "        return self.items  # print the stack\n",
    "        \n",
    "    def isEmpty(self):\n",
    "        return self.items == []  # returns the Boolean value of True / False\n",
    "    \n",
    "    def push(self, item):\n",
    "        self.items.append(item)  # inserting an item to the stack and returns nothing\n",
    "    \n",
    "    def pop(self):\n",
    "        return self.items.pop()  # pops out the last item and return it\n",
    "    \n",
    "    def peek(self):\n",
    "        return self.items[len(self.items) - 1]  # returns the last item of the stack (list)\n",
    "    \n",
    "    def size(self):\n",
    "        return len(self.items)"
   ]
  },
  {
   "cell_type": "code",
   "execution_count": 2,
   "metadata": {
    "collapsed": true
   },
   "outputs": [],
   "source": [
    "s = My_Stack()"
   ]
  },
  {
   "cell_type": "code",
   "execution_count": 3,
   "metadata": {
    "collapsed": false
   },
   "outputs": [
    {
     "name": "stdout",
     "output_type": "stream",
     "text": [
      "False\n",
      "2\n",
      "['Hello', 'World']\n",
      "World\n",
      "World\n",
      "['Hello']\n"
     ]
    }
   ],
   "source": [
    "s.push('Hello')\n",
    "s.push('World')\n",
    "print(s.isEmpty())\n",
    "print(s.size())\n",
    "print(s.__str__())\n",
    "print(s.peek())\n",
    "print(s.pop())\n",
    "print(s.__str__())"
   ]
  },
  {
   "cell_type": "code",
   "execution_count": 4,
   "metadata": {
    "collapsed": false
   },
   "outputs": [],
   "source": [
    "# Do a pip install pythonds in the anaconda console\n",
    "\n",
    "# pythonds module contains implementations of all data structures contained in the book (Problem Solving with Algorithms & Data Structures)\n",
    "from pythonds.basic.stack import Stack"
   ]
  },
  {
   "cell_type": "code",
   "execution_count": 5,
   "metadata": {
    "collapsed": true
   },
   "outputs": [],
   "source": [
    "s1 = Stack()"
   ]
  },
  {
   "cell_type": "code",
   "execution_count": 6,
   "metadata": {
    "collapsed": false
   },
   "outputs": [
    {
     "name": "stdout",
     "output_type": "stream",
     "text": [
      "True\n",
      "dog\n",
      "3\n",
      "False\n",
      "8.4\n",
      "True\n",
      "2\n"
     ]
    }
   ],
   "source": [
    "print(s1.isEmpty())\n",
    "s1.push(4)\n",
    "s1.push('dog')\n",
    "print(s1.peek())\n",
    "s1.push(True)\n",
    "print(s1.size())\n",
    "print(s1.isEmpty())\n",
    "s1.push(8.4)\n",
    "print(s1.pop())\n",
    "print(s1.pop())\n",
    "print(s1.size())"
   ]
  },
  {
   "cell_type": "code",
   "execution_count": 45,
   "metadata": {
    "collapsed": true
   },
   "outputs": [],
   "source": [
    "# Note we could have very well create the stack from the other side as in, the begining of the list would be the top.\n",
    "# In that case, append() and pop() wouldn't work. Then we have to use insert(index) and pop(index) these methods using indices.\n",
    "\n",
    "# Note append() and pop() both are O(1), which means the first implementation will perform push and pop in constant time\n",
    "# no matter how many items are on the stack.\n",
    "\n",
    "# The performance of the second implementation suffers in that the insert(0) and pop(0) operations will both require O(n) for\n",
    "# a stack of size n."
   ]
  },
  {
   "cell_type": "markdown",
   "metadata": {},
   "source": [
    "# Application 1: Reverse of a string"
   ]
  },
  {
   "cell_type": "code",
   "execution_count": 46,
   "metadata": {
    "collapsed": true
   },
   "outputs": [],
   "source": [
    "# Write a function revstring(mystr) that uses a stack to reverse the characters in a string"
   ]
  },
  {
   "cell_type": "code",
   "execution_count": 7,
   "metadata": {
    "collapsed": true
   },
   "outputs": [],
   "source": [
    "def revstring(mystr):\n",
    "    myStack = My_Stack()  # using my own implementation of the Stack. You could also use pythonds\n",
    "    for ch in mystr:\n",
    "        myStack.push(ch)  # creating a stack of characters\n",
    "        \n",
    "    revstr = ''\n",
    "    while not myStack.isEmpty():\n",
    "        revstr = revstr + myStack.pop()  # returns a string as revstr is initialized as a string\n",
    "        \n",
    "    return revstr"
   ]
  },
  {
   "cell_type": "code",
   "execution_count": 8,
   "metadata": {
    "collapsed": false
   },
   "outputs": [
    {
     "name": "stdout",
     "output_type": "stream",
     "text": [
      "elppA\n",
      "987654321\n",
      "a\n"
     ]
    }
   ],
   "source": [
    "print(revstring('Apple'))\n",
    "print(revstring('123456789'))\n",
    "print(revstring('a'))"
   ]
  },
  {
   "cell_type": "code",
   "execution_count": null,
   "metadata": {
    "collapsed": true
   },
   "outputs": [],
   "source": []
  }
 ],
 "metadata": {
  "kernelspec": {
   "display_name": "Python 3",
   "language": "python",
   "name": "python3"
  },
  "language_info": {
   "codemirror_mode": {
    "name": "ipython",
    "version": 3
   },
   "file_extension": ".py",
   "mimetype": "text/x-python",
   "name": "python",
   "nbconvert_exporter": "python",
   "pygments_lexer": "ipython3",
   "version": "3.5.1"
  }
 },
 "nbformat": 4,
 "nbformat_minor": 0
}
