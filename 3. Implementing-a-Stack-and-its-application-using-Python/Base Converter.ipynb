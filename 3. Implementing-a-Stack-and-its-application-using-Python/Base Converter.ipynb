{
 "cells": [
  {
   "cell_type": "code",
   "execution_count": 1,
   "metadata": {
    "collapsed": true
   },
   "outputs": [],
   "source": [
    "# Since all values stored within a computer exist as a string of binary digits, a string of 0's and 1s\n",
    "# so the conversion from Binary to Decimal and vice-versa is bvery essential. We'll use an algorithm called \"Divide by 2\""
   ]
  },
  {
   "cell_type": "code",
   "execution_count": 2,
   "metadata": {
    "collapsed": true
   },
   "outputs": [],
   "source": [
    "class My_Stack:\n",
    "    def __init__(self):\n",
    "        self.items = []  # creating an empty stack\n",
    "        \n",
    "    def __str__(self):\n",
    "        return self.items  # print the stack\n",
    "        \n",
    "    def isEmpty(self):\n",
    "        return self.items == []  # returns the Boolean value of True / False\n",
    "    \n",
    "    def push(self, item):\n",
    "        self.items.append(item)  # inserting an item to the stack and returns nothing\n",
    "    \n",
    "    def pop(self):\n",
    "        return self.items.pop()  # pops out the last item and return it\n",
    "    \n",
    "    def peek(self):\n",
    "        return self.items[len(self.items) - 1]  # returns the last item of the stack (list)\n",
    "    \n",
    "    def size(self):\n",
    "        return len(self.items)"
   ]
  },
  {
   "cell_type": "code",
   "execution_count": 4,
   "metadata": {
    "collapsed": false
   },
   "outputs": [
    {
     "name": "stdout",
     "output_type": "stream",
     "text": [
      "11101001\n"
     ]
    }
   ],
   "source": [
    "def divideBy2(decNumber):\n",
    "    remstack = My_Stack()\n",
    "    \n",
    "    while decNumber > 0:\n",
    "        rem = decNumber % 2\n",
    "        remstack.push(rem)\n",
    "        decNumber = decNumber // 2\n",
    "        \n",
    "    binString = \"\"\n",
    "    while not remstack.isEmpty():\n",
    "        binString = binString + str(remstack.pop())\n",
    "        \n",
    "    return binString\n",
    "\n",
    "print(divideBy2(233))"
   ]
  },
  {
   "cell_type": "markdown",
   "metadata": {},
   "source": [
    "# General Case (Base Converter)"
   ]
  },
  {
   "cell_type": "code",
   "execution_count": 6,
   "metadata": {
    "collapsed": true
   },
   "outputs": [],
   "source": [
    "def baseConverter(decNumber, base):\n",
    "    remstack = My_Stack()\n",
    "    digits = \"0123456789ABCDEF\"\n",
    "    \n",
    "    while decNumber > 0:\n",
    "        rem = decNumber % base\n",
    "        remstack.push(rem)\n",
    "        decNumber = decNumber // base\n",
    "        \n",
    "    newString = \"\"\n",
    "    while not remstack.isEmpty():\n",
    "        newString = newString + digits[remstack.pop()]\n",
    "        \n",
    "    return newString"
   ]
  },
  {
   "cell_type": "code",
   "execution_count": 10,
   "metadata": {
    "collapsed": false
   },
   "outputs": [
    {
     "name": "stdout",
     "output_type": "stream",
     "text": [
      "11101001\n",
      "351\n",
      "E9\n",
      "31\n",
      "100\n",
      "10\n"
     ]
    }
   ],
   "source": [
    "print(baseConverter(233, 2))\n",
    "print(baseConverter(233, 8))\n",
    "print(baseConverter(233, 16))\n",
    "print(baseConverter(25, 8))\n",
    "print(baseConverter(256, 16))\n",
    "print(baseConverter(26, 26))"
   ]
  },
  {
   "cell_type": "code",
   "execution_count": null,
   "metadata": {
    "collapsed": true
   },
   "outputs": [],
   "source": []
  }
 ],
 "metadata": {
  "kernelspec": {
   "display_name": "Python 3",
   "language": "python",
   "name": "python3"
  },
  "language_info": {
   "codemirror_mode": {
    "name": "ipython",
    "version": 3
   },
   "file_extension": ".py",
   "mimetype": "text/x-python",
   "name": "python",
   "nbconvert_exporter": "python",
   "pygments_lexer": "ipython3",
   "version": "3.5.1"
  }
 },
 "nbformat": 4,
 "nbformat_minor": 0
}
