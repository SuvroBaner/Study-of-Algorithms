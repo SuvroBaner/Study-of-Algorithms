{
 "cells": [
  {
   "cell_type": "code",
   "execution_count": 1,
   "metadata": {
    "collapsed": true
   },
   "outputs": [],
   "source": [
    "class MyStack:\n",
    "    def __init__(self):\n",
    "        self.items = []\n",
    "        \n",
    "    def __str__(self):\n",
    "        return self.items\n",
    "    \n",
    "    def isEmpty(self):\n",
    "        return self.items == []\n",
    "    \n",
    "    def push(self, item):\n",
    "        self.items.append(item)\n",
    "        \n",
    "    def pop(self):\n",
    "        return self.items.pop()\n",
    "    \n",
    "    def peek(self):\n",
    "        return self.items[len(self.items) - 1]\n",
    "    \n",
    "    def size(self):\n",
    "        return len(self.items)"
   ]
  },
  {
   "cell_type": "code",
   "execution_count": 2,
   "metadata": {
    "collapsed": false
   },
   "outputs": [
    {
     "name": "stdout",
     "output_type": "stream",
     "text": [
      "A B +\n",
      "A B C * +\n",
      "A B * C +\n",
      "A B + C *\n",
      "A B * C + D *\n",
      "A B * C D * +\n",
      "A B + C * D E - F G + * -\n"
     ]
    }
   ],
   "source": [
    "def infixToPostfix(infixexpr):\n",
    "    prec = {} # operator precedence dictionary\n",
    "    prec[\"*\"] = 3 # a dictionary with key as \"*\" and value as \"3\". This is set to the highest precedence value.\n",
    "    prec[\"/\"] = 3\n",
    "    prec[\"+\"] = 2\n",
    "    prec[\"-\"] = 2\n",
    "    prec[\"(\"] = 1\n",
    "    \n",
    "    opStack = MyStack()  # stack where the operators will be stored\n",
    "    postfixList = []  # final postfix expression will be saved\n",
    "    \n",
    "    tokenList = infixexpr.split()  # spliting the infix expression into a list\n",
    "    for token in tokenList:\n",
    "        if token in \"ABCDEFGHIJKLMNOPQRSTUVWXYZ\" or token in \"0123456789\":\n",
    "            postfixList.append(token)\n",
    "        elif token == '(':\n",
    "            opStack.push(token)\n",
    "        elif token == ')':\n",
    "            topToken = opStack.pop()\n",
    "            while topToken != '(':\n",
    "                postfixList.append(topToken)\n",
    "                topToken = opStack.pop()\n",
    "        else:\n",
    "            while (not opStack.isEmpty()) and (prec[opStack.peek()] >= prec[token]):\n",
    "                postfixList.append(opStack.pop())\n",
    "            opStack.push(token)\n",
    "    \n",
    "    while not opStack.isEmpty():\n",
    "        postfixList.append(opStack.pop())\n",
    "        \n",
    "    return \" \".join(postfixList)\n",
    "    \n",
    "    \n",
    "print(infixToPostfix(\"A + B\"))\n",
    "print(infixToPostfix(\"A + B * C\"))\n",
    "print(infixToPostfix(\"A * B + C\"))\n",
    "print(infixToPostfix(\"( A + B ) * C\"))\n",
    "print(infixToPostfix(\"( A * B + C ) * D\"))\n",
    "print(infixToPostfix(\"A * B + C * D\"))\n",
    "print(infixToPostfix(\"( A + B ) * C - ( D - E ) * ( F + G )\"))"
   ]
  },
  {
   "cell_type": "code",
   "execution_count": null,
   "metadata": {
    "collapsed": true
   },
   "outputs": [],
   "source": []
  },
  {
   "cell_type": "code",
   "execution_count": null,
   "metadata": {
    "collapsed": true
   },
   "outputs": [],
   "source": []
  }
 ],
 "metadata": {
  "kernelspec": {
   "display_name": "Python 3",
   "language": "python",
   "name": "python3"
  },
  "language_info": {
   "codemirror_mode": {
    "name": "ipython",
    "version": 3
   },
   "file_extension": ".py",
   "mimetype": "text/x-python",
   "name": "python",
   "nbconvert_exporter": "python",
   "pygments_lexer": "ipython3",
   "version": "3.5.1"
  }
 },
 "nbformat": 4,
 "nbformat_minor": 0
}
