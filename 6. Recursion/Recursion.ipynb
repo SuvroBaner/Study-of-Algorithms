{
 "cells": [
  {
   "cell_type": "code",
   "execution_count": 1,
   "metadata": {
    "collapsed": true
   },
   "outputs": [],
   "source": [
    "# Calculating the Sum of a List of Numbers using a normal loop"
   ]
  },
  {
   "cell_type": "code",
   "execution_count": 4,
   "metadata": {
    "collapsed": false
   },
   "outputs": [
    {
     "data": {
      "text/plain": [
       "10"
      ]
     },
     "execution_count": 4,
     "metadata": {},
     "output_type": "execute_result"
    }
   ],
   "source": [
    "def sum_list(lst):\n",
    "    s = 0\n",
    "    for num in lst:\n",
    "        s += num\n",
    "    return s\n",
    "sum_list([1, 2, 3, 4])"
   ]
  },
  {
   "cell_type": "code",
   "execution_count": 5,
   "metadata": {
    "collapsed": true
   },
   "outputs": [],
   "source": [
    "# Calculating the sum of a  list using a recursion"
   ]
  },
  {
   "cell_type": "code",
   "execution_count": 7,
   "metadata": {
    "collapsed": false
   },
   "outputs": [
    {
     "data": {
      "text/plain": [
       "10"
      ]
     },
     "execution_count": 7,
     "metadata": {},
     "output_type": "execute_result"
    }
   ],
   "source": [
    "def sum_list_rec(lst):\n",
    "    if len(lst) == 1:\n",
    "        return lst[0]\n",
    "    else:\n",
    "        return lst[0] + sum_list_rec(lst[1:])\n",
    "sum_list_rec([1, 2, 3, 4])"
   ]
  },
  {
   "cell_type": "code",
   "execution_count": 8,
   "metadata": {
    "collapsed": true
   },
   "outputs": [],
   "source": [
    "# Calculate the factorial of n using a normal loop"
   ]
  },
  {
   "cell_type": "code",
   "execution_count": 10,
   "metadata": {
    "collapsed": false
   },
   "outputs": [
    {
     "name": "stdout",
     "output_type": "stream",
     "text": [
      "24\n",
      "1\n",
      "1\n"
     ]
    }
   ],
   "source": [
    "def fact(n):\n",
    "    prod = 1\n",
    "    while n > 1:\n",
    "        prod = prod * n\n",
    "        n = n - 1\n",
    "    return prod\n",
    "print(fact(4))\n",
    "print(fact(1))\n",
    "print(fact(0))"
   ]
  },
  {
   "cell_type": "code",
   "execution_count": 11,
   "metadata": {
    "collapsed": true
   },
   "outputs": [],
   "source": [
    "# Calculate the factorial using recursion"
   ]
  },
  {
   "cell_type": "code",
   "execution_count": 14,
   "metadata": {
    "collapsed": false
   },
   "outputs": [
    {
     "name": "stdout",
     "output_type": "stream",
     "text": [
      "24\n",
      "1\n",
      "1\n"
     ]
    }
   ],
   "source": [
    "def fact_rec(n):\n",
    "    if n <= 1:\n",
    "        return 1\n",
    "    else:\n",
    "        return n * fact_rec(n-1)\n",
    "print(fact_rec(4))\n",
    "print(fact_rec(1))\n",
    "print(fact_rec(0))"
   ]
  },
  {
   "cell_type": "code",
   "execution_count": 16,
   "metadata": {
    "collapsed": true
   },
   "outputs": [],
   "source": [
    "# Convert an integer to a string in any base using a normal loop"
   ]
  },
  {
   "cell_type": "code",
   "execution_count": 64,
   "metadata": {
    "collapsed": false
   },
   "outputs": [
    {
     "name": "stdout",
     "output_type": "stream",
     "text": [
      "10111\n",
      "E7\n"
     ]
    }
   ],
   "source": [
    "def conv_to_str(aNum, base):\n",
    "    rem_str = ''\n",
    "    convert_string = '0123456789ABCDEF'\n",
    "    while aNum >= base:\n",
    "        rem = aNum % base\n",
    "        rem_str = rem_str + str(convert_string[rem])\n",
    "        aNum = aNum // base\n",
    "    rem_str = rem_str + str(convert_string[aNum])\n",
    "    \n",
    "    rev_rem_str = ''\n",
    "    for i in range(len(rem_str)):\n",
    "        rev_rem_str = rev_rem_str + rem_str[len(rem_str)-1 - i]\n",
    "        \n",
    "    return rev_rem_str\n",
    "print(conv_to_str(23, 2))\n",
    "print(conv_to_str(231, 16))"
   ]
  },
  {
   "cell_type": "code",
   "execution_count": 62,
   "metadata": {
    "collapsed": true
   },
   "outputs": [],
   "source": [
    "# Convert an interger to a string in any base using a stack -"
   ]
  },
  {
   "cell_type": "code",
   "execution_count": 69,
   "metadata": {
    "collapsed": true
   },
   "outputs": [],
   "source": [
    "class my_stack:\n",
    "    def __init__(self):\n",
    "        self.items = []\n",
    "    def push(self, item):\n",
    "        self.items.append(item)\n",
    "    def pop(self):\n",
    "        return self.items.pop()\n",
    "    def size(self):\n",
    "        return len(self.items)\n",
    "    def isEmpty(self):\n",
    "        return self.items == []\n",
    "    def __str__(self):\n",
    "        return str(self.items)"
   ]
  },
  {
   "cell_type": "code",
   "execution_count": 82,
   "metadata": {
    "collapsed": false
   },
   "outputs": [
    {
     "name": "stdout",
     "output_type": "stream",
     "text": [
      "10111\n",
      "1111011\n",
      "6F\n"
     ]
    }
   ],
   "source": [
    "def conv_to_str_stck(num, base):\n",
    "    conv_string = '0123456789ABCDEF'\n",
    "    rem_stck = my_stack()\n",
    "    \n",
    "    while num >= base:\n",
    "        rem = num % base\n",
    "        rem_stck.push(conv_string[rem])\n",
    "        num = num // base\n",
    "    rem_stck.push(conv_string[num])\n",
    "    \n",
    "    rem_str = ''\n",
    "    while not rem_stck.isEmpty():\n",
    "        rem_str = rem_str + str(rem_stck.pop())\n",
    "        \n",
    "    return rem_str\n",
    "    \n",
    "print(conv_to_str_stck(23, 2))\n",
    "print(conv_to_str_stck(123, 2))\n",
    "print(conv_to_str_stck(111, 16))"
   ]
  },
  {
   "cell_type": "code",
   "execution_count": 83,
   "metadata": {
    "collapsed": true
   },
   "outputs": [],
   "source": [
    "# Convert an integer to a string using recursion"
   ]
  },
  {
   "cell_type": "code",
   "execution_count": 85,
   "metadata": {
    "collapsed": false
   },
   "outputs": [
    {
     "name": "stdout",
     "output_type": "stream",
     "text": [
      "10111\n",
      "1111011\n",
      "6F\n"
     ]
    }
   ],
   "source": [
    "def conv_to_str_rec(num, base):\n",
    "    conv_string = '0123456789ABCDEF'\n",
    "    if num < base:\n",
    "        return conv_string[num]\n",
    "    else:\n",
    "        return conv_to_str_rec(num//base, base) + conv_string[num % base]\n",
    "        \n",
    "print(conv_to_str_rec(23, 2))\n",
    "print(conv_to_str_rec(123, 2))\n",
    "print(conv_to_str_rec(111, 16))"
   ]
  },
  {
   "cell_type": "code",
   "execution_count": null,
   "metadata": {
    "collapsed": true
   },
   "outputs": [],
   "source": []
  }
 ],
 "metadata": {
  "kernelspec": {
   "display_name": "Python 3",
   "language": "python",
   "name": "python3"
  },
  "language_info": {
   "codemirror_mode": {
    "name": "ipython",
    "version": 3
   },
   "file_extension": ".py",
   "mimetype": "text/x-python",
   "name": "python",
   "nbconvert_exporter": "python",
   "pygments_lexer": "ipython3",
   "version": "3.5.1"
  }
 },
 "nbformat": 4,
 "nbformat_minor": 0
}
